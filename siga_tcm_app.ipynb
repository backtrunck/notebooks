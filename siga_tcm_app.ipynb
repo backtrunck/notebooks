{
 "cells": [
  {
   "cell_type": "code",
   "execution_count": 51,
   "metadata": {},
   "outputs": [],
   "source": [
    "import pandas as pd\n",
    "import numpy as np\n",
    "import csv\n",
    "import os"
   ]
  },
  {
   "cell_type": "code",
   "execution_count": 86,
   "metadata": {},
   "outputs": [],
   "source": [
    "pasta_envio = '/home/lcreina/Documents/programacao/backups_databases/envios.cgu.data/'\n"
   ]
  },
  {
   "cell_type": "code",
   "execution_count": 21,
   "metadata": {},
   "outputs": [],
   "source": [
    "# arquivo de contratos extraido da base mysql para ser enviado ao CGU-DATA\n",
    "arq_contratos = 'extrac.contratos.csv'\n",
    "df_contratos = pd.read_csv(os.path.join(pasta_envio,arq_contratos),\n",
    "                                sep='|',\n",
    "                                names=['idContrato','Unidade','ExercicioAparente','Contrato','DataInicio',\n",
    "                                       'DataFim','TipoContrato','Licitacao','DispInex','Historico','CNPJ_CPF',\n",
    "                                       'Fornecedor','Valor','CredorNoAtiva'],\n",
    "                                dtype={\"idContrato\":np.int32,\"Unidade\":np.int32,\"ExercicioAparente\":np.int32,\n",
    "                                       \"Contrato\":str,\"TipoContrato\":str,\"Fornecedor\":str,\n",
    "                                       \"CNPJ_CPF\":str,\"Historico\":str,\"Valor\":np.double,\n",
    "                                       \"Licitacao\":str,\"DispInex\":str,\"CredorNoAtiva\":str},\n",
    "                                parse_dates = [\"DataInicio\",\"DataFim\"],\n",
    "                                header = None,\n",
    "                               )\n",
    "# df_contratos_siga.query('ExercicioAparente == 2022')['Valor'].sum()\n",
    "# print(df_contratos_siga.Valor.sum(),df_contratos_siga.Valor.count())\n",
    "# df_contratos_siga"
   ]
  },
  {
   "cell_type": "code",
   "execution_count": 22,
   "metadata": {},
   "outputs": [
    {
     "name": "stdout",
     "output_type": "stream",
     "text": [
      "1620826 56962545799853.97\n"
     ]
    }
   ],
   "source": [
    "# Verifica a contagem e soma\n",
    "print(df_contratos.Unidade.count(),\n",
    "     df_contratos.Valor.sum())\n",
    "# 1607887 56955308161339.75"
   ]
  },
  {
   "cell_type": "code",
   "execution_count": 23,
   "metadata": {},
   "outputs": [],
   "source": [
    "# retirar os '\\n' do campo Histórico\n",
    "f = lambda x:x.replace('\\n',' ') if pd.notna(x) else x\n",
    "df_contratos.Historico = df_contratos.Historico.apply(f)"
   ]
  },
  {
   "cell_type": "code",
   "execution_count": 24,
   "metadata": {},
   "outputs": [
    {
     "name": "stdout",
     "output_type": "stream",
     "text": [
      "1620826 56962545799853.97\n"
     ]
    }
   ],
   "source": [
    "# Verifica a contagem e soma, após alteração\n",
    "print(df_contratos.Unidade.count(),\n",
    "     df_contratos.Valor.sum())"
   ]
  },
  {
   "cell_type": "code",
   "execution_count": 25,
   "metadata": {},
   "outputs": [],
   "source": [
    "# gera o csv para ser encaminhado ao CGU-DATA\n",
    "arq_contratos_saida = 'contratos.2022.07.14.novo.v2.csv'\n",
    "\n",
    "df_contratos.to_csv(os.path.join(pasta_envio,arq_contratos_saida),\n",
    "                    sep='|',\n",
    "                    index=False,\n",
    "                    quoting=csv.QUOTE_ALL)"
   ]
  },
  {
   "cell_type": "code",
   "execution_count": 26,
   "metadata": {},
   "outputs": [],
   "source": [
    "# abre o arquivo gerado a ser encaminhado para o cgu-data\n",
    "df_contratos = pd.read_csv(os.path.join(pasta_envio,arq_contratos_saida),\n",
    "                                sep='|',\n",
    "                                names=['idContrato','Unidade','ExercicioAparente','Contrato','DataInicio',\n",
    "                                       'DataFim','TipoContrato','Licitacao','DispInex','Historico','CNPJ_CPF',\n",
    "                                       'Fornecedor','Valor','CredorNoAtiva'],\n",
    "                                dtype={\"idContrato\":np.int32,\"Unidade\":np.int32,\"ExercicioAparente\":np.int32,\n",
    "                                       \"Contrato\":str,\"TipoContrato\":str,\"Fornecedor\":str,\n",
    "                                       \"CNPJ_CPF\":str,\"Historico\":str,\"Valor\":np.double,\n",
    "                                       \"Licitacao\":str,\"DispInex\":str,\"CredorNoAtiva\":str},\n",
    "                                parse_dates = [\"DataInicio\",\"DataFim\"],\n",
    "                                header = 0,\n",
    "                               )"
   ]
  },
  {
   "cell_type": "code",
   "execution_count": 27,
   "metadata": {},
   "outputs": [
    {
     "name": "stdout",
     "output_type": "stream",
     "text": [
      "1620826 56962545799853.97\n"
     ]
    }
   ],
   "source": [
    "# Verifica a contagem e soma do arquivo a ser enviado ao cgu-data\n",
    "print(df_contratos.Unidade.count(),\n",
    "     df_contratos.Valor.sum())"
   ]
  },
  {
   "cell_type": "code",
   "execution_count": 9,
   "metadata": {},
   "outputs": [],
   "source": [
    "# arquivo de licitacao extraido da base mysql para ser enviado ao CGU-DATA\n",
    "# depois retirei os '\\n' do campo Objeto pois tava dando erro na importação no CGU-DATA\n",
    "arq_licitacoes = 'extrac.licitacao.csv'\n",
    "df_licitacoes = pd.read_csv(os.path.join(pasta_envio,arq_licitacoes),\n",
    "                           sep='|',\n",
    "                           header= None,\n",
    "                           names=[\"idLicitacao\",\"idUnidade\",\"NumeroLicitacao\",\"DataHomologacao\",\"sqFornecedor\",\"AnoHomologacao\",\n",
    "                                  \"Modalidade\",\"Execucao\",\"ValorEstimado\",\"Objeto\",\"cnpj_cpf\",\"Fornecedor\",\"ValorHomologado\",\n",
    "                                  \"credor_no_ativa\"],\n",
    "                           dtype={\"idLicitacao\":np.int32,\"idUnidade\":np.int32,\"NumeroLicitacao\":str,\n",
    "                                  \"sqFornecedor\":np.int32,\"AnoHomologacao\":np.int32,\"Modalidade\":str,\n",
    "                                  \"Execucao\":str,\"ValorEstimado\":np.double,\"Objeto\":str,\n",
    "                                  \"cnpj_cpf\":str,\"Fornecedor\":str,\"ValorHomologado\":np.double,\n",
    "                                  \"CredorNoAtiva\":str},\n",
    "                           parse_dates = [\"DataHomologacao\"]\n",
    "                           )"
   ]
  },
  {
   "cell_type": "code",
   "execution_count": null,
   "metadata": {},
   "outputs": [],
   "source": [
    "# Verifica a contagem e soma \n",
    "print(df_licitacoes.NumeroLicitacao.count(),\n",
    "     df_licitacoes.ValorEstimado.sum(),\n",
    "     df_licitacoes.ValorHomologado.sum())"
   ]
  },
  {
   "cell_type": "code",
   "execution_count": 10,
   "metadata": {},
   "outputs": [],
   "source": [
    "# retirar os '\\n' do campo Objeto\n",
    "f = lambda x:x.replace('\\n',' ') if pd.notna(x) else x\n",
    "df_licitacoes.Objeto = df_licitacoes.Objeto.apply(f)"
   ]
  },
  {
   "cell_type": "code",
   "execution_count": 11,
   "metadata": {},
   "outputs": [
    {
     "name": "stdout",
     "output_type": "stream",
     "text": [
      "789062 1006466101605.8901 855498726210530.4\n"
     ]
    }
   ],
   "source": [
    "# Verifica a contagem e soma \n",
    "print(df_licitacoes.NumeroLicitacao.count(),\n",
    "     df_licitacoes.ValorEstimado.sum(),\n",
    "     df_licitacoes.ValorHomologado.sum())"
   ]
  },
  {
   "cell_type": "code",
   "execution_count": 12,
   "metadata": {},
   "outputs": [],
   "source": [
    "# Gerando csv a ser enviado para o CGU-DATA\n",
    "arq_licitacoes_saida = 'licitacoes.2022.07.14.novo.v2.csv'\n",
    "df_licitacoes.to_csv(arq_cgu_data,\n",
    "                        sep='|',\n",
    "                        index=False,\n",
    "                        quoting=csv.QUOTE_ALL)"
   ]
  },
  {
   "cell_type": "code",
   "execution_count": 14,
   "metadata": {},
   "outputs": [],
   "source": [
    "# abrindo arquivo q vai ser enviado ao CGU-DATA\n",
    "\n",
    "df_licitacoes = pd.read_csv(os.path.join(pasta_envio,arq_licitacoes_saida),\n",
    "                           sep='|',\n",
    "                           header= 0,\n",
    "                           names=[\"idLicitacao\",\"idUnidade\",\"NumeroLicitacao\",\"DataHomologacao\",\"sqFornecedor\",\"AnoHomologacao\",\n",
    "                                  \"Modalidade\",\"Execucao\",\"ValorEstimado\",\"Objeto\",\"cnpj_cpf\",\"Fornecedor\",\"ValorHomologado\",\n",
    "                                  \"credor_no_ativa\"],\n",
    "                           dtype={\"idLicitacao\":np.int32,\"idUnidade\":np.int32,\"NumeroLicitacao\":str,\n",
    "                                  \"sqFornecedor\":np.int32,\"AnoHomologacao\":np.int32,\"Modalidade\":str,\n",
    "                                  \"Execucao\":str,\"ValorEstimado\":np.double,\"Objeto\":str,\n",
    "                                  \"cnpj_cpf\":str,\"Fornecedor\":str,\"ValorHomologado\":np.double,\n",
    "                                  \"CredorNoAtiva\":str},\n",
    "                           parse_dates = [\"DataHomologacao\"]\n",
    "                           )"
   ]
  },
  {
   "cell_type": "code",
   "execution_count": 15,
   "metadata": {},
   "outputs": [
    {
     "name": "stdout",
     "output_type": "stream",
     "text": [
      "789062 1006466101605.8901 855498726210530.4\n"
     ]
    }
   ],
   "source": [
    "# Verifica a contagem e soma \n",
    "print(df_licitacoes.NumeroLicitacao.count(),\n",
    "     df_licitacoes.ValorEstimado.sum(),\n",
    "     df_licitacoes.ValorHomologado.sum())"
   ]
  },
  {
   "cell_type": "code",
   "execution_count": 117,
   "metadata": {},
   "outputs": [],
   "source": [
    "# arquivo de dispensas extraido da base mysql para ser enviado ao CGU-DATA\n",
    "# depois retirei os '\\n' do campo Objeto pois tava dando erro na importação no CGU-DATA\n",
    "\n",
    "arq_dispensas = 'extrac.dispensas.csv'\n",
    "df_dispensas = pd.read_csv(os.path.join(pasta_envio,arq_dispensas),\n",
    "                           sep='|',\n",
    "                           header= None,\n",
    "                           names=['Unidade','ExercicioAparente','idDispensaInexigibilidade',\n",
    "                                  'Processo','Modalidade','Execucao','Historico',\n",
    "                                  'cnpj_cpf','Fornecedor','Valor','CredorNoAtiva'],\n",
    "                           dtype={\"Unidade\":np.int32,\"ExercicioAparente\":np.int32,\"idDispensaInexigibilidade\":np.int32,\n",
    "                                  \"Processo\":str,\"Modalidade\":str,\"Execucao\":str,\"Historico\":str,                                  \n",
    "                                  \"cnpj_cpf\":np.int64,\"Fornecedor\":str,\"Valor\":np.float,\"CredorNoAtiva\":str},\n",
    "                           quoting=csv.QUOTE_ALL                           \n",
    "                           #parse_dates = [\"DataHomologacao\"]\n",
    "                           )\n"
   ]
  },
  {
   "cell_type": "code",
   "execution_count": 120,
   "metadata": {},
   "outputs": [],
   "source": [
    "# df_dispensas.query(\"cnpj_cpf == 'TELEMAR NORTE LESTE S/A'\")"
   ]
  },
  {
   "cell_type": "code",
   "execution_count": 121,
   "metadata": {},
   "outputs": [
    {
     "name": "stdout",
     "output_type": "stream",
     "text": [
      "1243362 138662533403258.48\n"
     ]
    }
   ],
   "source": [
    "print(df_dispensas.Unidade.count(), df_dispensas.Valor.sum())"
   ]
  },
  {
   "cell_type": "code",
   "execution_count": 122,
   "metadata": {},
   "outputs": [],
   "source": [
    "#Verifica se tem \\n no histórico\n",
    "df = df_dispensas[df_dispensas.Historico.notna()]\n",
    "df = df.query('Historico.str.contains(\"/n\")', engine='python')\n",
    "#encontrou \\n?\n",
    "if df.shape[0]:\n",
    "    # retirar os '\\n' do campo Objeto\n",
    "    f = lambda x:x.replace('\\n',' ') if pd.notna(x) else x\n",
    "    df_dispensas.Historico = df_dispensas.Historico.apply(f)\n",
    "    "
   ]
  },
  {
   "cell_type": "code",
   "execution_count": 123,
   "metadata": {},
   "outputs": [
    {
     "name": "stdout",
     "output_type": "stream",
     "text": [
      "1243362 138662533403258.48\n"
     ]
    }
   ],
   "source": [
    "print(df_dispensas.Unidade.count(), df_dispensas.Valor.sum())"
   ]
  },
  {
   "cell_type": "code",
   "execution_count": 124,
   "metadata": {},
   "outputs": [],
   "source": [
    "# Gerando csv a ser enviado para o CGU-DATA\n",
    "arq_dispensas_saida = 'dispensas.2022.07.20.v2.csv'\n",
    "df_dispensas.to_csv(os.path.join(pasta_envio,arq_dispensas_saida),\n",
    "                        sep='|',\n",
    "                        index=False,\n",
    "                        quoting=csv.QUOTE_ALL)"
   ]
  },
  {
   "cell_type": "code",
   "execution_count": 125,
   "metadata": {},
   "outputs": [],
   "source": [
    "df_dispensas = pd.read_csv(os.path.join(pasta_envio,arq_dispensas_saida),\n",
    "                           sep='|',\n",
    "                           header= 0,\n",
    "                           names=['Unidade','ExercicioAparente','idDispensaInexigibilidade',\n",
    "                                  'Processo','Modalidade','Execucao','Historico',\n",
    "                                  'cnpj_cpf','Fornecedor','Valor','CredorNoAtiva'],\n",
    "                           dtype={\"Unidade\":np.int32,\"ExercicioAparente\":np.int32,\"idDispensaInexigibilidade\":np.int32,\n",
    "                                  \"Processo\":str,\"Modalidade\":str,\"Execucao\":str,\"Historico\":str,                                  \n",
    "                                  \"cnpj_cpf\":np.int64,\"Fornecedor\":str,\"Valor\":np.float,\"CredorNoAtiva\":str},\n",
    "                           quoting=csv.QUOTE_ALL                           \n",
    "                           #parse_dates = [\"DataHomologacao\"]\n",
    "                           )"
   ]
  },
  {
   "cell_type": "code",
   "execution_count": 126,
   "metadata": {},
   "outputs": [
    {
     "name": "stdout",
     "output_type": "stream",
     "text": [
      "1243362 138662533403258.48\n"
     ]
    }
   ],
   "source": [
    "print(df_dispensas.Unidade.count(), df_dispensas.Valor.sum())"
   ]
  },
  {
   "cell_type": "code",
   "execution_count": 85,
   "metadata": {},
   "outputs": [
    {
     "data": {
      "text/html": [
       "<div>\n",
       "<style scoped>\n",
       "    .dataframe tbody tr th:only-of-type {\n",
       "        vertical-align: middle;\n",
       "    }\n",
       "\n",
       "    .dataframe tbody tr th {\n",
       "        vertical-align: top;\n",
       "    }\n",
       "\n",
       "    .dataframe thead th {\n",
       "        text-align: right;\n",
       "    }\n",
       "</style>\n",
       "<table border=\"1\" class=\"dataframe\">\n",
       "  <thead>\n",
       "    <tr style=\"text-align: right;\">\n",
       "      <th></th>\n",
       "      <th>Historico</th>\n",
       "      <th>Valor</th>\n",
       "    </tr>\n",
       "  </thead>\n",
       "  <tbody>\n",
       "    <tr>\n",
       "      <th>25609</th>\n",
       "      <td>PRESTAR SERVIÇOS COMO MÉDICA FISIOTERAPEUTA</td>\n",
       "      <td>1200.0</td>\n",
       "    </tr>\n",
       "    <tr>\n",
       "      <th>25611</th>\n",
       "      <td>PRESTAR SERVIÇOS COMO MÉDICA FISIOTERAPEUTA</td>\n",
       "      <td>1200.0</td>\n",
       "    </tr>\n",
       "    <tr>\n",
       "      <th>25656</th>\n",
       "      <td>PRESTAR SERVIÇOS COMO MÉDICA FISIOTERAPEUTA</td>\n",
       "      <td>1200.0</td>\n",
       "    </tr>\n",
       "    <tr>\n",
       "      <th>25722</th>\n",
       "      <td>PRESTAR SERVIÇOS COMO MÉDICA FISIOTERAPEUTA</td>\n",
       "      <td>1200.0</td>\n",
       "    </tr>\n",
       "    <tr>\n",
       "      <th>25775</th>\n",
       "      <td>PRESTAR SERVIÇOS COMO MÉDICA FISIOTERAPEUTA</td>\n",
       "      <td>1200.0</td>\n",
       "    </tr>\n",
       "    <tr>\n",
       "      <th>25879</th>\n",
       "      <td>PRESTAR SERVIÇOS COMO MÉDICA FISIOTERAPEUTA</td>\n",
       "      <td>1200.0</td>\n",
       "    </tr>\n",
       "    <tr>\n",
       "      <th>25940</th>\n",
       "      <td>PRESTAR SERVIÇOS COMO MÉDICA FISIOTERAPEUTA</td>\n",
       "      <td>1200.0</td>\n",
       "    </tr>\n",
       "    <tr>\n",
       "      <th>25941</th>\n",
       "      <td>PRESTAR SERVIÇOS COMO MÉDICA FISIOTERAPEUTA</td>\n",
       "      <td>1200.0</td>\n",
       "    </tr>\n",
       "    <tr>\n",
       "      <th>26560</th>\n",
       "      <td>PRESTAR SERVIÇOS COMO MÉDICA FISIOTERAPEUTA</td>\n",
       "      <td>1200.0</td>\n",
       "    </tr>\n",
       "    <tr>\n",
       "      <th>26823</th>\n",
       "      <td>PRESTAR SERVIÇOS COMO MÉDICA FISIOTERAPEUTA</td>\n",
       "      <td>1200.0</td>\n",
       "    </tr>\n",
       "    <tr>\n",
       "      <th>26824</th>\n",
       "      <td>PRESTAR SERVIÇOS COMO MÉDICA FISIOTERAPEUTA</td>\n",
       "      <td>1200.0</td>\n",
       "    </tr>\n",
       "    <tr>\n",
       "      <th>26855</th>\n",
       "      <td>PRESTAR SERVIÇOS COMO MÉDICA FISIOTERAPEUTA.</td>\n",
       "      <td>1200.0</td>\n",
       "    </tr>\n",
       "    <tr>\n",
       "      <th>26856</th>\n",
       "      <td>PRESTAR SERVIÇOS COMO MÉDICA FISIOTERAPEUTA</td>\n",
       "      <td>1200.0</td>\n",
       "    </tr>\n",
       "    <tr>\n",
       "      <th>26880</th>\n",
       "      <td>PRESTAR SERVIÇOS COMO MÉDICA FISIOTERAPEUTA</td>\n",
       "      <td>2400.0</td>\n",
       "    </tr>\n",
       "    <tr>\n",
       "      <th>27785</th>\n",
       "      <td>PRESTAR SERVIÇOS COMO FISIOTERAPEUTA.</td>\n",
       "      <td>1200.0</td>\n",
       "    </tr>\n",
       "    <tr>\n",
       "      <th>27794</th>\n",
       "      <td>PRESTAR SERVIÇOS COMO FISIOTERAPEUTA NO POSTO DE SAÚDE DA SEDE.</td>\n",
       "      <td>1200.0</td>\n",
       "    </tr>\n",
       "    <tr>\n",
       "      <th>27796</th>\n",
       "      <td>PRESTAR SERVIÇOS COMO FISIOTERAPEUTA NO POSTO DE SAÚDE DA SEDE.</td>\n",
       "      <td>1200.0</td>\n",
       "    </tr>\n",
       "    <tr>\n",
       "      <th>27835</th>\n",
       "      <td>PRESTAÇÃO SERVIÇOS FISIOTERAPEUTA</td>\n",
       "      <td>1200.0</td>\n",
       "    </tr>\n",
       "    <tr>\n",
       "      <th>27845</th>\n",
       "      <td>PRESTAR SERVIÇOS COMO FISIOTERAPEUTA NO POSTO DE SAÚDE NA SEDE DESTE MUNICÍPIO, NO PERÍODO DE 03 A 31/07/2012.</td>\n",
       "      <td>1200.0</td>\n",
       "    </tr>\n",
       "    <tr>\n",
       "      <th>27869</th>\n",
       "      <td>PRESTAR SERVIÇOS COMO FISIOTERAPEUTA NO POSTO DE SAÚDE DA SEDE, NO PERÍODO DE 02 A 30/04/2012.</td>\n",
       "      <td>1200.0</td>\n",
       "    </tr>\n",
       "    <tr>\n",
       "      <th>27905</th>\n",
       "      <td>PRESTAR SERVIÇOS COMO FISIOTERAPEUTA NO POSTO DE SAÚDE DA SEDE.</td>\n",
       "      <td>1200.0</td>\n",
       "    </tr>\n",
       "    <tr>\n",
       "      <th>28003</th>\n",
       "      <td>PRESTAÇÃO SERVIÇOS FISIOTERAPEUTA</td>\n",
       "      <td>1200.0</td>\n",
       "    </tr>\n",
       "    <tr>\n",
       "      <th>28040</th>\n",
       "      <td>PRESTAR SERVIÇOS COMO FISIOTERAPEUTA NO POSTO DE SAÚDE DA SEDE</td>\n",
       "      <td>1200.0</td>\n",
       "    </tr>\n",
       "    <tr>\n",
       "      <th>28147</th>\n",
       "      <td>PRESTAR SERVIÇOS COMO FISIOTERAPEUTA NO POSTO DE SAÚDE DA SEDE, NO PERÍODO DE 02 A 30/04/2012</td>\n",
       "      <td>1200.0</td>\n",
       "    </tr>\n",
       "    <tr>\n",
       "      <th>28823</th>\n",
       "      <td>FISIOTERAPEUTA - CENTRO DE ESPECIALIDADES</td>\n",
       "      <td>9473.7</td>\n",
       "    </tr>\n",
       "    <tr>\n",
       "      <th>29976</th>\n",
       "      <td>Prestação de serviços na preparação de 275 Kits de Café da Manhã, destinado a confraternização com os feirantes, pelos festejos do aniversário da cidade de América Dourada, no dia 25/02/2018. '</td>\n",
       "      <td>2750.0</td>\n",
       "    </tr>\n",
       "    <tr>\n",
       "      <th>30168</th>\n",
       "      <td>FISIOTERAPEUTA CLÍNICA</td>\n",
       "      <td>16000.0</td>\n",
       "    </tr>\n",
       "  </tbody>\n",
       "</table>\n",
       "</div>"
      ],
      "text/plain": [
       "                                                                                                                                                                                               Historico  \\\n",
       "25609                                                                                                                                                        PRESTAR SERVIÇOS COMO MÉDICA FISIOTERAPEUTA   \n",
       "25611                                                                                                                                                        PRESTAR SERVIÇOS COMO MÉDICA FISIOTERAPEUTA   \n",
       "25656                                                                                                                                                        PRESTAR SERVIÇOS COMO MÉDICA FISIOTERAPEUTA   \n",
       "25722                                                                                                                                                        PRESTAR SERVIÇOS COMO MÉDICA FISIOTERAPEUTA   \n",
       "25775                                                                                                                                                        PRESTAR SERVIÇOS COMO MÉDICA FISIOTERAPEUTA   \n",
       "25879                                                                                                                                                        PRESTAR SERVIÇOS COMO MÉDICA FISIOTERAPEUTA   \n",
       "25940                                                                                                                                                        PRESTAR SERVIÇOS COMO MÉDICA FISIOTERAPEUTA   \n",
       "25941                                                                                                                                                        PRESTAR SERVIÇOS COMO MÉDICA FISIOTERAPEUTA   \n",
       "26560                                                                                                                                                        PRESTAR SERVIÇOS COMO MÉDICA FISIOTERAPEUTA   \n",
       "26823                                                                                                                                                        PRESTAR SERVIÇOS COMO MÉDICA FISIOTERAPEUTA   \n",
       "26824                                                                                                                                                        PRESTAR SERVIÇOS COMO MÉDICA FISIOTERAPEUTA   \n",
       "26855                                                                                                                                                       PRESTAR SERVIÇOS COMO MÉDICA FISIOTERAPEUTA.   \n",
       "26856                                                                                                                                                        PRESTAR SERVIÇOS COMO MÉDICA FISIOTERAPEUTA   \n",
       "26880                                                                                                                                                        PRESTAR SERVIÇOS COMO MÉDICA FISIOTERAPEUTA   \n",
       "27785                                                                                                                                                              PRESTAR SERVIÇOS COMO FISIOTERAPEUTA.   \n",
       "27794                                                                                                                                    PRESTAR SERVIÇOS COMO FISIOTERAPEUTA NO POSTO DE SAÚDE DA SEDE.   \n",
       "27796                                                                                                                                    PRESTAR SERVIÇOS COMO FISIOTERAPEUTA NO POSTO DE SAÚDE DA SEDE.   \n",
       "27835                                                                                                                                                                  PRESTAÇÃO SERVIÇOS FISIOTERAPEUTA   \n",
       "27845                                                                                     PRESTAR SERVIÇOS COMO FISIOTERAPEUTA NO POSTO DE SAÚDE NA SEDE DESTE MUNICÍPIO, NO PERÍODO DE 03 A 31/07/2012.   \n",
       "27869                                                                                                     PRESTAR SERVIÇOS COMO FISIOTERAPEUTA NO POSTO DE SAÚDE DA SEDE, NO PERÍODO DE 02 A 30/04/2012.   \n",
       "27905                                                                                                                                    PRESTAR SERVIÇOS COMO FISIOTERAPEUTA NO POSTO DE SAÚDE DA SEDE.   \n",
       "28003                                                                                                                                                                  PRESTAÇÃO SERVIÇOS FISIOTERAPEUTA   \n",
       "28040                                                                                                                                     PRESTAR SERVIÇOS COMO FISIOTERAPEUTA NO POSTO DE SAÚDE DA SEDE   \n",
       "28147                                                                                                      PRESTAR SERVIÇOS COMO FISIOTERAPEUTA NO POSTO DE SAÚDE DA SEDE, NO PERÍODO DE 02 A 30/04/2012   \n",
       "28823                                                                                                                                                          FISIOTERAPEUTA - CENTRO DE ESPECIALIDADES   \n",
       "29976  Prestação de serviços na preparação de 275 Kits de Café da Manhã, destinado a confraternização com os feirantes, pelos festejos do aniversário da cidade de América Dourada, no dia 25/02/2018. '   \n",
       "30168                                                                                                                                                                             FISIOTERAPEUTA CLÍNICA   \n",
       "\n",
       "         Valor  \n",
       "25609   1200.0  \n",
       "25611   1200.0  \n",
       "25656   1200.0  \n",
       "25722   1200.0  \n",
       "25775   1200.0  \n",
       "25879   1200.0  \n",
       "25940   1200.0  \n",
       "25941   1200.0  \n",
       "26560   1200.0  \n",
       "26823   1200.0  \n",
       "26824   1200.0  \n",
       "26855   1200.0  \n",
       "26856   1200.0  \n",
       "26880   2400.0  \n",
       "27785   1200.0  \n",
       "27794   1200.0  \n",
       "27796   1200.0  \n",
       "27835   1200.0  \n",
       "27845   1200.0  \n",
       "27869   1200.0  \n",
       "27905   1200.0  \n",
       "28003   1200.0  \n",
       "28040   1200.0  \n",
       "28147   1200.0  \n",
       "28823   9473.7  \n",
       "29976   2750.0  \n",
       "30168  16000.0  "
      ]
     },
     "metadata": {},
     "output_type": "display_data"
    },
    {
     "name": "stdout",
     "output_type": "stream",
     "text": [
      "1243362 138662533401258.48\n"
     ]
    }
   ],
   "source": [
    "# with pd.option_context(\"display.max_colwidth\", None):\n",
    "#     display(df[['Historico','Valor']])\n"
   ]
  },
  {
   "cell_type": "code",
   "execution_count": null,
   "metadata": {},
   "outputs": [],
   "source": []
  },
  {
   "cell_type": "code",
   "execution_count": null,
   "metadata": {},
   "outputs": [],
   "source": []
  }
 ],
 "metadata": {
  "kernelspec": {
   "display_name": "Python 3 (ipykernel)",
   "language": "python",
   "name": "python3"
  },
  "language_info": {
   "codemirror_mode": {
    "name": "ipython",
    "version": 3
   },
   "file_extension": ".py",
   "mimetype": "text/x-python",
   "name": "python",
   "nbconvert_exporter": "python",
   "pygments_lexer": "ipython3",
   "version": "3.8.10"
  }
 },
 "nbformat": 4,
 "nbformat_minor": 4
}
