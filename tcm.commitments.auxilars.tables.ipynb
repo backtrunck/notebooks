{
 "cells": [
  {
   "cell_type": "code",
   "execution_count": 1,
   "metadata": {},
   "outputs": [],
   "source": [
    "import pandas as pd"
   ]
  },
  {
   "cell_type": "code",
   "execution_count": 2,
   "metadata": {},
   "outputs": [],
   "source": [
    "folder = '/home/lcreina/programacao/python/tcm.commitments/etc'"
   ]
  },
  {
   "cell_type": "code",
   "execution_count": 55,
   "metadata": {},
   "outputs": [],
   "source": [
    "file_name = 'tabelas.auxiliares.2022.xls'\n",
    "expense_elements = pd.read_excel(f'{folder}/{file_name}',\n",
    "                                 header=0,\n",
    "                                 sheet_name = 'expense_element',\n",
    "                                 index_col=None,\n",
    "                                 dtype={'cd_municipio': int,\n",
    "                                         'cd_unidade': int,\n",
    "                                         'ano': int,\n",
    "                                         'cd': object,\n",
    "                                         'dsc': object,\n",
    "                                         'Empreendimento': object,\n",
    "                                         'Complemento': object,\n",
    "                                         'CepEmpreendimento': object, })\n",
    "expense_elements.dsc.fillna('Não Informado',inplace=True)\n",
    "expense_elements.dsc = expense_elements.dsc.str.upper()\n",
    "expense_elements = expense_elements.query('ano == 2022')"
   ]
  },
  {
   "cell_type": "code",
   "execution_count": 56,
   "metadata": {},
   "outputs": [],
   "source": [
    "ex = expense_elements.copy()\n",
    "merge = pd.merge(expense_elements,\n",
    "                 ex,\n",
    "                 left_on=['cd'],\n",
    "                 right_on=['cd'],\n",
    "                 how='inner')\n",
    "# merge.query('dsc_x != dsc_y')\n",
    "\n",
    "# expense_elements.groupby(['dsc','cd']).cd_unidade.count()"
   ]
  },
  {
   "cell_type": "code",
   "execution_count": 57,
   "metadata": {},
   "outputs": [
    {
     "data": {
      "text/html": [
       "<div>\n",
       "<style scoped>\n",
       "    .dataframe tbody tr th:only-of-type {\n",
       "        vertical-align: middle;\n",
       "    }\n",
       "\n",
       "    .dataframe tbody tr th {\n",
       "        vertical-align: top;\n",
       "    }\n",
       "\n",
       "    .dataframe thead th {\n",
       "        text-align: right;\n",
       "    }\n",
       "</style>\n",
       "<table border=\"1\" class=\"dataframe\">\n",
       "  <thead>\n",
       "    <tr style=\"text-align: right;\">\n",
       "      <th></th>\n",
       "      <th>cd_municipio_x</th>\n",
       "      <th>cd_unidade_x</th>\n",
       "      <th>ano_x</th>\n",
       "      <th>cd</th>\n",
       "      <th>dsc_x</th>\n",
       "      <th>cd_municipio_y</th>\n",
       "      <th>cd_unidade_y</th>\n",
       "      <th>ano_y</th>\n",
       "      <th>dsc_y</th>\n",
       "    </tr>\n",
       "  </thead>\n",
       "  <tbody>\n",
       "  </tbody>\n",
       "</table>\n",
       "</div>"
      ],
      "text/plain": [
       "Empty DataFrame\n",
       "Columns: [cd_municipio_x, cd_unidade_x, ano_x, cd, dsc_x, cd_municipio_y, cd_unidade_y, ano_y, dsc_y]\n",
       "Index: []"
      ]
     },
     "execution_count": 57,
     "metadata": {},
     "output_type": "execute_result"
    }
   ],
   "source": [
    "merge.query('dsc_x != dsc_y')"
   ]
  },
  {
   "cell_type": "code",
   "execution_count": null,
   "metadata": {},
   "outputs": [],
   "source": []
  }
 ],
 "metadata": {
  "kernelspec": {
   "display_name": "Python 3 (ipykernel)",
   "language": "python",
   "name": "python3"
  },
  "language_info": {
   "codemirror_mode": {
    "name": "ipython",
    "version": 3
   },
   "file_extension": ".py",
   "mimetype": "text/x-python",
   "name": "python",
   "nbconvert_exporter": "python",
   "pygments_lexer": "ipython3",
   "version": "3.8.10"
  }
 },
 "nbformat": 4,
 "nbformat_minor": 4
}
