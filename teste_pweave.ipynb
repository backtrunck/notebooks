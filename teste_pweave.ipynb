{
 "cells": [
  {
   "cell_type": "code",
   "execution_count": 2,
   "metadata": {},
   "outputs": [
    {
     "data": {
      "image/png": "[encoded data removed]",
      "text/plain": [
       "<matplotlib.figure.Figure at 0x7fc5106efc50>"
      ]
     },
     "metadata": {},
     "output_type": "display_data"
    }
   ],
   "source": [
    "# %% # This is the title of the notebook\n",
    "\n",
    "#+ setup, echo=False\n",
    "import pandas as pd\n",
    "\n",
    "df = pd.DataFrame({'a': list(range(4))})\n",
    "\n",
    "#' Let us see what a plot looks like\n",
    "#+ plot_df, echo=False\n",
    "df.plot.bar()\n",
    "\n"
   ]
  },
  {
   "cell_type": "code",
   "execution_count": 4,
   "metadata": {},
   "outputs": [
    {
     "name": "stdout",
     "output_type": "stream",
     "text": [
      "1\n"
     ]
    }
   ],
   "source": [
    "#' Let us make now some visible computation\n",
    "#+ echo=True\n",
    "a = 1\n",
    "print(a)\n",
    "\n",
    "#' Also it is possible to use variable in context: a is <% a %>\n",
    "\n",
    "#+ echo=True\n",
    "a = 2\n",
    "\n",
    "#' a is now <% a %>"
   ]
  }
 ],
 "metadata": {
  "kernelspec": {
   "display_name": "Python 3",
   "language": "python",
   "name": "python3"
  },
  "language_info": {
   "codemirror_mode": {
    "name": "ipython",
    "version": 3
   },
   "file_extension": ".py",
   "mimetype": "text/x-python",
   "name": "python",
   "nbconvert_exporter": "python",
   "pygments_lexer": "ipython3",
   "version": "3.6.9"
  }
 },
 "nbformat": 4,
 "nbformat_minor": 2
}
