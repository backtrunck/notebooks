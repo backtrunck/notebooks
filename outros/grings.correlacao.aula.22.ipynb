{
 "cells": [
  {
   "cell_type": "code",
   "execution_count": 17,
   "metadata": {},
   "outputs": [],
   "source": [
    "import pandas as pd\n",
    "import math\n"
   ]
  },
  {
   "cell_type": "markdown",
   "metadata": {},
   "source": [
    "<p>\n",
    "Um agricultor plantou um pé de feijão no quintal de sua casa, anotando semanalmente sua altura. Os resultados obtidos\n",
    "estão estão na tabela\n",
    "</p>\n"
   ]
  },
  {
   "cell_type": "code",
   "execution_count": 16,
   "metadata": {},
   "outputs": [
    {
     "data": {
      "text/html": [
       "<div>\n",
       "<style scoped>\n",
       "    .dataframe tbody tr th:only-of-type {\n",
       "        vertical-align: middle;\n",
       "    }\n",
       "\n",
       "    .dataframe tbody tr th {\n",
       "        vertical-align: top;\n",
       "    }\n",
       "\n",
       "    .dataframe thead th {\n",
       "        text-align: right;\n",
       "    }\n",
       "</style>\n",
       "<table border=\"1\" class=\"dataframe\">\n",
       "  <thead>\n",
       "    <tr style=\"text-align: right;\">\n",
       "      <th></th>\n",
       "      <th>x</th>\n",
       "      <th>y</th>\n",
       "      <th>x2</th>\n",
       "      <th>y2</th>\n",
       "      <th>x*y</th>\n",
       "    </tr>\n",
       "  </thead>\n",
       "  <tbody>\n",
       "    <tr>\n",
       "      <th>0</th>\n",
       "      <td>1</td>\n",
       "      <td>5</td>\n",
       "      <td>1</td>\n",
       "      <td>25</td>\n",
       "      <td>5</td>\n",
       "    </tr>\n",
       "    <tr>\n",
       "      <th>1</th>\n",
       "      <td>2</td>\n",
       "      <td>12</td>\n",
       "      <td>4</td>\n",
       "      <td>144</td>\n",
       "      <td>24</td>\n",
       "    </tr>\n",
       "    <tr>\n",
       "      <th>2</th>\n",
       "      <td>3</td>\n",
       "      <td>16</td>\n",
       "      <td>9</td>\n",
       "      <td>256</td>\n",
       "      <td>48</td>\n",
       "    </tr>\n",
       "    <tr>\n",
       "      <th>3</th>\n",
       "      <td>4</td>\n",
       "      <td>22</td>\n",
       "      <td>16</td>\n",
       "      <td>484</td>\n",
       "      <td>88</td>\n",
       "    </tr>\n",
       "    <tr>\n",
       "      <th>4</th>\n",
       "      <td>5</td>\n",
       "      <td>34</td>\n",
       "      <td>25</td>\n",
       "      <td>1156</td>\n",
       "      <td>170</td>\n",
       "    </tr>\n",
       "    <tr>\n",
       "      <th>5</th>\n",
       "      <td>6</td>\n",
       "      <td>38</td>\n",
       "      <td>36</td>\n",
       "      <td>1444</td>\n",
       "      <td>228</td>\n",
       "    </tr>\n",
       "    <tr>\n",
       "      <th>6</th>\n",
       "      <td>7</td>\n",
       "      <td>41</td>\n",
       "      <td>49</td>\n",
       "      <td>1681</td>\n",
       "      <td>287</td>\n",
       "    </tr>\n",
       "    <tr>\n",
       "      <th>7</th>\n",
       "      <td>8</td>\n",
       "      <td>45</td>\n",
       "      <td>64</td>\n",
       "      <td>2025</td>\n",
       "      <td>360</td>\n",
       "    </tr>\n",
       "    <tr>\n",
       "      <th>8</th>\n",
       "      <td>9</td>\n",
       "      <td>50</td>\n",
       "      <td>81</td>\n",
       "      <td>2500</td>\n",
       "      <td>450</td>\n",
       "    </tr>\n",
       "  </tbody>\n",
       "</table>\n",
       "</div>"
      ],
      "text/plain": [
       "   x   y  x2    y2  x*y\n",
       "0  1   5   1    25    5\n",
       "1  2  12   4   144   24\n",
       "2  3  16   9   256   48\n",
       "3  4  22  16   484   88\n",
       "4  5  34  25  1156  170\n",
       "5  6  38  36  1444  228\n",
       "6  7  41  49  1681  287\n",
       "7  8  45  64  2025  360\n",
       "8  9  50  81  2500  450"
      ]
     },
     "metadata": {},
     "output_type": "display_data"
    },
    {
     "data": {
      "text/plain": [
       "'somat x = 45, somat_y = 263'"
      ]
     },
     "metadata": {},
     "output_type": "display_data"
    },
    {
     "data": {
      "text/plain": [
       "'somat x2 = 285, somat_y2 = 9715'"
      ]
     },
     "metadata": {},
     "output_type": "display_data"
    },
    {
     "data": {
      "text/plain": [
       "'somat xy = 1660'"
      ]
     },
     "metadata": {},
     "output_type": "display_data"
    }
   ],
   "source": [
    "df = pd.DataFrame(data = {'x':[1,2,3,4,5,6,7,8,9],'y':[5,12,16,22,34,38,41,45,50]})\n",
    "df['x2'] = df.x ** 2\n",
    "df['y2'] = df.y ** 2\n",
    "df['x*y'] = df.x * df.y\n",
    "display(df)\n",
    "somat_x = df.x.sum()\n",
    "somat_y = df.y.sum()\n",
    "\n",
    "somat_x2 = df.x2.sum()\n",
    "somat_y2 = df.y2.sum()\n",
    "somat_xy = (df.x * df.y).sum()\n",
    "\n",
    "display(f'somat x = {somat_x}, somat_y = {somat_y}')\n",
    "display(f'somat x2 = {somat_x2}, somat_y2 = {somat_y2}')\n",
    "display(f'somat xy = {somat_xy}')\n",
    "n = df.shape[0]\n"
   ]
  },
  {
   "cell_type": "code",
   "execution_count": 30,
   "metadata": {},
   "outputs": [
    {
     "data": {
      "text/plain": [
       "'Correlação calculada 0.9886509726125047'"
      ]
     },
     "metadata": {},
     "output_type": "display_data"
    },
    {
     "data": {
      "text/plain": [
       "'Correlação pelo pandas 0.9886509726125045'"
      ]
     },
     "metadata": {},
     "output_type": "display_data"
    },
    {
     "data": {
      "text/plain": [
       "'Coeficiente de determinação ou explicação: 97.743%'"
      ]
     },
     "metadata": {},
     "output_type": "display_data"
    },
    {
     "data": {
      "text/plain": [
       "'97.743% da variação da altura (y) é explicada pela variação do tempo (x)'"
      ]
     },
     "metadata": {},
     "output_type": "display_data"
    },
    {
     "data": {
      "text/plain": [
       "'2.257% da variação da altura (y) é explicada por outros fatores'"
      ]
     },
     "metadata": {},
     "output_type": "display_data"
    }
   ],
   "source": [
    "#calculando r\n",
    "\n",
    "r = (n * somat_xy - (somat_x * somat_y)) /(math.sqrt((n * somat_x2) - somat_x**2) * math.sqrt((n * somat_y2) - somat_y**2))\n",
    "display(f'Correlação calculada {r}')\n",
    "display(f'Correlação pelo pandas {df.x.corr(df.y)}')\n",
    "display (f'Coeficiente de determinação ou explicação: {round(r**2 * 100,3)}%')\n",
    "display (f'{round(r**2 * 100,3)}% da variação da altura (y) é explicada pela variação do tempo (x)')\n",
    "display (f'{round((1 - r**2) * 100,3)}% da variação da altura (y) é explicada por outros fatores')\n"
   ]
  },
  {
   "cell_type": "code",
   "execution_count": 38,
   "metadata": {},
   "outputs": [
    {
     "data": {
      "text/plain": [
       "'equacão de regressão: y= 0.472 + 5.75x'"
      ]
     },
     "metadata": {},
     "output_type": "display_data"
    }
   ],
   "source": [
    "#equação da reta de regresão\n",
    "b = round((n * somat_xy - (somat_x * somat_y)) / (n*somat_x2 - somat_x**2),3)\n",
    "y_medio = somat_y /n\n",
    "x_medio = somat_x /n \n",
    "a = round(y_medio - b * x_medio,3)\n",
    "display(f'equacão de regressão: y= {a} + {b}x')\n"
   ]
  },
  {
   "cell_type": "code",
   "execution_count": 43,
   "metadata": {},
   "outputs": [
    {
     "data": {
      "text/plain": [
       "'A altura seria de: 20.597cm'"
      ]
     },
     "metadata": {},
     "output_type": "display_data"
    }
   ],
   "source": [
    "#qual a altura do pé de feijão com 3,5 semanas\n",
    "qt_semanas = 3.5\n",
    "display(f'A altura seria de: {a + b * qt_semanas}cm')"
   ]
  }
 ],
 "metadata": {
  "kernelspec": {
   "display_name": "Python 3",
   "language": "python",
   "name": "python3"
  },
  "language_info": {
   "codemirror_mode": {
    "name": "ipython",
    "version": 3
   },
   "file_extension": ".py",
   "mimetype": "text/x-python",
   "name": "python",
   "nbconvert_exporter": "python",
   "pygments_lexer": "ipython3",
   "version": "3.8.5"
  }
 },
 "nbformat": 4,
 "nbformat_minor": 4
}
