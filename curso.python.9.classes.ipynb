{
 "cells": [
  {
   "cell_type": "markdown",
   "metadata": {},
   "source": [
    "## Classes\n",
    "<p>\n",
    "    Programação orientada a objetos é um dos mais efetivos métodos de escrever software. Em programação orientada a objetos, você escreve classes para representar coisas ou situações do mundo real e você cria objetos baseados nestas classes. Quando vc escreve uma classe, vc está definindo o comportamento geral de uma categoria de objetos.\n",
    "    Quando você cria um objeto individual a partir de uma classe (instanciar, criar uma instância), cada objeto é automaticamente equipado com o comportamento geral da classe.\n",
    "</p>"
   ]
  },
  {
   "cell_type": "markdown",
   "metadata": {},
   "source": [
    "## Criando e usando classes\n",
    "<p>Você pode modelar quase tudo usando classes. Vamos criar a classe Cão.</p>\n"
   ]
  },
  {
   "cell_type": "code",
   "execution_count": 7,
   "metadata": {},
   "outputs": [],
   "source": [
    "class Cao:\n",
    "    \"\"\"\n",
    "    Uma tentativa de criar um modelo de cão\n",
    "    \"\"\"\n",
    "    def __init__(self, nome, idade):        \n",
    "        # Toda vez que um objeto for criado este método será chamado\n",
    "        # Quase toda o método de uma classe tem que ter o primeiro parâmetro self.\n",
    "        \n",
    "        # Toda variável precedida de self é criada na instância atual do objeto, e pode ser acessada em \n",
    "        # qualquer método da instância. Essa variáveis são chamadas atributos/propriedades da classe.\n",
    "        self.nome = nome\n",
    "        self.idade = idade\n",
    "        \n",
    "    \n",
    "    def sentar(self):\n",
    "        \"\"\"\n",
    "        Simula um cão se sentando\n",
    "        \"\"\"\n",
    "        print(f'{self.nome} está se sentando.')\n",
    "        \n",
    "    \n",
    "    def rolar(self):\n",
    "        \"\"\"\n",
    "        Simula um cão rolando em responta a um comando\n",
    "        \"\"\"\n",
    "        print(f'{self.nome} rolando.')\n",
    "        \n",
    "              "
   ]
  },
  {
   "cell_type": "markdown",
   "metadata": {},
   "source": [
    "## Criando uma instância e acessando atributos\n",
    "<p>Pense numa classe como um conjunto de instruções de como fazer uma instância ou objeto. A classe Cão é um conjunto de instruções que diz ao Python como fazer um objeto (instância) individual Cão</p>"
   ]
  },
  {
   "cell_type": "code",
   "execution_count": 8,
   "metadata": {},
   "outputs": [
    {
     "name": "stdout",
     "output_type": "stream",
     "text": [
      "O nome do meu cão é Totó\n",
      "Meu cão tem 4\n"
     ]
    }
   ],
   "source": [
    "meu_cao = Cao('Totó', 4)\n",
    "print(f'O nome do meu cão é {meu_cao.nome}')\n",
    "print(f'Meu cão tem {meu_cao.idade} anos')\n"
   ]
  },
  {
   "cell_type": "markdown",
   "metadata": {},
   "source": [
    "## Chamando métodos"
   ]
  },
  {
   "cell_type": "code",
   "execution_count": 9,
   "metadata": {},
   "outputs": [
    {
     "name": "stdout",
     "output_type": "stream",
     "text": [
      "Totó está se sentando.\n",
      "Totó rolando.\n"
     ]
    }
   ],
   "source": [
    "meu_cao.sentar()\n",
    "meu_cao.rolar()"
   ]
  },
  {
   "cell_type": "markdown",
   "metadata": {},
   "source": [
    "## Criando multiplas instâncias"
   ]
  },
  {
   "cell_type": "code",
   "execution_count": 13,
   "metadata": {},
   "outputs": [
    {
     "name": "stdout",
     "output_type": "stream",
     "text": [
      "O nome do seu cão é Safadão\n",
      "Seu cão tem 8 anos\n",
      "O nome do nosso cão é Cansado\n",
      "Nosso cão tem 10 anos\n"
     ]
    }
   ],
   "source": [
    "seu_cao = Cao('Safadão',8)\n",
    "nosso_cao = Cao('Cansado',10)\n",
    "\n",
    "print(f'O nome do seu cão é {seu_cao.nome}')\n",
    "print(f'Seu cão tem {seu_cao.idade} anos')\n",
    "\n",
    "print(f'O nome do nosso cão é {nosso_cao.nome}')\n",
    "print(f'Nosso cão tem {nosso_cao.idade} anos')"
   ]
  },
  {
   "cell_type": "markdown",
   "metadata": {},
   "source": [
    "## Exercicio\n",
    "<p>Crie a classe Pagamento. Um Pagamento deve ter as seguintes propriedades/atributos  numero do processo, data de pagamento, numero do empenho, cnpj/cpf do credor, o nome do credor e o valor bruto do pagamento. </p>\n",
    "<p>Para se criar um objeto de Pagamento deve-se ter os valores de todas as propriedades informadas acima. Portanto o método __init__ da classe deve receber como parâmetros todos esses valores</p> \n",
    "<p>Também crie uma classe chamada Pagamentos, para se criar um objeto Pagamentos não é necessário nenhum dado, contudo a classe Pagamentos deve ter um propriedade/atributo chamado dados (list) que inicialmente (no __init__) vai ser criada vazio. A classe pagamentos tem um método chamado adicionar que recebe como parâmetro um objeto pagamento e esse objeto é inserido no atributo dados de Pagamentos.</p>"
   ]
  },
  {
   "cell_type": "markdown",
   "metadata": {},
   "source": [
    "## Criando atributos padrão e modificando atributos\n"
   ]
  },
  {
   "cell_type": "code",
   "execution_count": 20,
   "metadata": {},
   "outputs": [
    {
     "name": "stdout",
     "output_type": "stream",
     "text": [
      "Tinhoso é Branco, tem 5 anos e pesa 5 Kg\n",
      "Tinhoso é preto e branco, tem 5 anos e pesa -7 Kg\n"
     ]
    }
   ],
   "source": [
    "class Cao:\n",
    "    \"\"\"\n",
    "    Uma tentativa de criar um modelo de cão\n",
    "    \"\"\"\n",
    "    def __init__(self, nome, idade, cor='preto'):        \n",
    "        # Toda vez que um objeto for criado este método será chamado\n",
    "        # Quase toda o método de uma classe tem que ter o primeiro parâmetro self.\n",
    "        \n",
    "        # Toda variável precedida de self é criada na instância atual do objeto, e pode ser acessada em \n",
    "        # qualquer método da instância. Essa variáveis são chamadas atributos/propriedades da classe.\n",
    "        self.nome = nome\n",
    "        self.idade = idade\n",
    "        self.cor = cor\n",
    "        self.peso = 5\n",
    "        \n",
    "    \n",
    "    def sentar(self):\n",
    "        \"\"\"\n",
    "        Simula um cão se sentando\n",
    "        \"\"\"\n",
    "        print(f'{self.nome} está se sentando.')\n",
    "        \n",
    "    \n",
    "    def rolar(self):\n",
    "        \"\"\"\n",
    "        Simula um cão rolando em responta a um comando\n",
    "        \"\"\"\n",
    "        print(f'{self.nome} rolando.')\n",
    "\n",
    "novo_cao = Cao('Tinhoso', 5, 'Branco')\n",
    "print(f'{novo_cao.nome} é {novo_cao.cor}, tem {novo_cao.idade} anos e pesa {novo_cao.peso} Kg')\n",
    "\n",
    "novo_cao.cor = 'preto e branco'\n",
    "novo_cao.peso = -7\n",
    "\n",
    "print(f'{novo_cao.nome} é {novo_cao.cor}, tem {novo_cao.idade} anos e pesa {novo_cao.peso} Kg')"
   ]
  },
  {
   "cell_type": "markdown",
   "metadata": {},
   "source": [
    "## Criando métodos para alterar atributos"
   ]
  },
  {
   "cell_type": "code",
   "execution_count": 24,
   "metadata": {},
   "outputs": [
    {
     "name": "stdout",
     "output_type": "stream",
     "text": [
      "Tinhoso é Branco, tem 5 anos e pesa 10 Kg, antes era 5 kg\n",
      "Informe um peso maior que zero\n",
      "Tinhoso é preto e branco, tem 5 anos e pesa 10 Kg\n"
     ]
    }
   ],
   "source": [
    "class Cao:\n",
    "    \"\"\"\n",
    "    Uma tentativa de criar um modelo de cão\n",
    "    \"\"\"\n",
    "    def __init__(self, nome, idade, cor='preto'):        \n",
    "        # Toda vez que um objeto for criado este método será chamado\n",
    "        # Quase toda o método de uma classe tem que ter o primeiro parâmetro self.\n",
    "        \n",
    "        # Toda variável precedida de self é criada na instância atual do objeto, e pode ser acessada em \n",
    "        # qualquer método da instância. Essa variáveis são chamadas atributos/propriedades da classe.\n",
    "        self.nome = nome\n",
    "        self.idade = idade\n",
    "        self.cor = cor\n",
    "        self.peso = 5\n",
    "        \n",
    "    \n",
    "    def sentar(self):\n",
    "        \"\"\"\n",
    "        Simula um cão se sentando\n",
    "        \"\"\"\n",
    "        print(f'{self.nome} está se sentando.')\n",
    "        \n",
    "    \n",
    "    def rolar(self):\n",
    "        \"\"\"\n",
    "        Simula um cão rolando em responta a um comando\n",
    "        \"\"\"\n",
    "        print(f'{self.nome} rolando.')\n",
    "    \n",
    "    def atualizar_peso(self, peso):\n",
    "        peso_anterior = self.peso\n",
    "        if peso > 0:\n",
    "            self.peso = peso\n",
    "            return peso_anterior\n",
    "        else:\n",
    "            print('Informe um peso maior que zero')\n",
    "\n",
    "            \n",
    "novo_cao = Cao('Tinhoso', 5, 'Branco')\n",
    "peso = novo_cao.atualizar_peso(10)            \n",
    "print(f'{novo_cao.nome} é {novo_cao.cor}, tem {novo_cao.idade} anos e pesa {novo_cao.peso} Kg, antes era {peso} kg')\n",
    "\n",
    "novo_cao.cor = 'preto e branco'\n",
    "novo_cao.atualizar_peso(-1)            \n",
    "\n",
    "print(f'{novo_cao.nome} é {novo_cao.cor}, tem {novo_cao.idade} anos e pesa {novo_cao.peso} Kg')"
   ]
  },
  {
   "cell_type": "markdown",
   "metadata": {},
   "source": [
    "## Exercicio\n",
    "<p>Crie na classe Pagamento, uma propriedade chamada dotacao, caso a dotação não seja passada no __init__, ela deve ser ajustada/setada para string vazia.</p>\n",
    "<p>Sabendo que o valor de dotação sempre tem esse formato (ex:30/ 3011/ 10/ 122/ 14/ 2/ 2037/ 33508501/ 0) que seria orgao / unidadeorcamentaria / funcao / subfuncao / programa / tipoacao / acao / naturezadespesa / fontederecursos. Crie os métodos orgao, unidade_orcamentaria, funcao, subfuncao, programa, tipo_acao, acao, natureza_despesa, fonte_de_recursos de maneira que cada um desses métodos retorne o respectivo valor da informação</p> "
   ]
  },
  {
   "cell_type": "markdown",
   "metadata": {},
   "source": [
    "## Herança"
   ]
  },
  {
   "cell_type": "code",
   "execution_count": 32,
   "metadata": {},
   "outputs": [
    {
     "name": "stdout",
     "output_type": "stream",
     "text": [
      "2019 Tesla Modelo Tal\n",
      "Este Carro tem uma bateria de 75 kwh\n"
     ]
    }
   ],
   "source": [
    "class Carro:\n",
    "    \n",
    "    def __init__(self, fabricante, modelo, ano):\n",
    "        self.fabricante = fabricante\n",
    "        self.modelo = modelo\n",
    "        self.ano = ano\n",
    "        self.odometro = 0\n",
    "        \n",
    "    def descricao(self):\n",
    "        desc = f\"{self.ano} {self.fabricante} {self.modelo}\"\n",
    "        return desc.title()\n",
    "    \n",
    "    def ler_odometro(self):\n",
    "        print(f\"Esse carro tem {self.odometro} km rodados.\")\n",
    "        \n",
    "    def atualizar_odometro(self, quilometros):\n",
    "        if quilometros >= self.odometro:\n",
    "            self.odometro = quilometros\n",
    "        else:\n",
    "            print(\"Você não pode voltar o odometro!\")\n",
    "            \n",
    "    def incrementar_odometro(self, quilometros):\n",
    "        self.odometro += quilometros\n",
    "\n",
    "class CarroEletrico(Carro):\n",
    "    \n",
    "    def __init__(self, fabricante, modelo, ano):\n",
    "        super().__init__(fabricante, modelo, ano)\n",
    "        self.battery_size = 75\n",
    "        \n",
    "    def describe_battery(self):\n",
    "        print(f'Este Carro tem uma bateria de {self.battery_size} kwh')\n",
    "        \n",
    "\n",
    "meu_tesla = CarroEletrico('tesla', 'modelo tal', 2019)\n",
    "print(meu_tesla.descricao())\n",
    "meu_tesla.describe_battery()\n",
    "        "
   ]
  },
  {
   "cell_type": "code",
   "execution_count": null,
   "metadata": {},
   "outputs": [],
   "source": []
  }
 ],
 "metadata": {
  "kernelspec": {
   "display_name": "Python 3 (ipykernel)",
   "language": "python",
   "name": "python3"
  },
  "language_info": {
   "codemirror_mode": {
    "name": "ipython",
    "version": 3
   },
   "file_extension": ".py",
   "mimetype": "text/x-python",
   "name": "python",
   "nbconvert_exporter": "python",
   "pygments_lexer": "ipython3",
   "version": "3.8.10"
  }
 },
 "nbformat": 4,
 "nbformat_minor": 4
}
