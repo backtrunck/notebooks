{
 "cells": [
  {
   "cell_type": "code",
   "execution_count": 2,
   "metadata": {},
   "outputs": [
    {
     "data": {
      "text/plain": [
       "'1.19.1'"
      ]
     },
     "metadata": {},
     "output_type": "display_data"
    }
   ],
   "source": [
    "import numpy as np\n",
    "display(np.__version__)\n",
    "# https://code.tutsplus.com/pt/tutorials/introducing-numpy--cms-28703"
   ]
  },
  {
   "cell_type": "code",
   "execution_count": 25,
   "metadata": {},
   "outputs": [
    {
     "data": {
      "text/plain": [
       "array([[ 6, 12, 93,  2],\n",
       "       [ 5, 26, 78, 90],\n",
       "       [ 3, 12, 16, 22],\n",
       "       [ 5,  3,  1, 16]])"
      ]
     },
     "metadata": {},
     "output_type": "display_data"
    },
    {
     "data": {
      "text/plain": [
       "dtype('int64')"
      ]
     },
     "metadata": {},
     "output_type": "display_data"
    },
    {
     "data": {
      "text/plain": [
       "(4, 4)"
      ]
     },
     "metadata": {},
     "output_type": "display_data"
    },
    {
     "data": {
      "text/plain": [
       "16"
      ]
     },
     "metadata": {},
     "output_type": "display_data"
    },
    {
     "data": {
      "text/plain": [
       "8"
      ]
     },
     "metadata": {},
     "output_type": "display_data"
    },
    {
     "data": {
      "text/plain": [
       "2"
      ]
     },
     "metadata": {},
     "output_type": "display_data"
    },
    {
     "data": {
      "text/plain": [
       "array([1, 2, 3, 4, 5])"
      ]
     },
     "metadata": {},
     "output_type": "display_data"
    },
    {
     "data": {
      "text/plain": [
       "dtype([('height', '<f8')])"
      ]
     },
     "metadata": {},
     "output_type": "display_data"
    },
    {
     "data": {
      "text/plain": [
       "array([(1.78,), (1.69,), (1.88,)], dtype=[('height', '<f8')])"
      ]
     },
     "metadata": {},
     "output_type": "display_data"
    },
    {
     "data": {
      "text/plain": [
       "(1.78,)"
      ]
     },
     "metadata": {},
     "output_type": "display_data"
    },
    {
     "data": {
      "text/plain": [
       "array([[0, 0],\n",
       "       [0, 0]])"
      ]
     },
     "metadata": {},
     "output_type": "display_data"
    },
    {
     "data": {
      "text/plain": [
       "array([[0, 0],\n",
       "       [0, 0]])"
      ]
     },
     "metadata": {},
     "output_type": "display_data"
    },
    {
     "data": {
      "text/plain": [
       "array([0, 1, 2, 3, 4, 5, 6, 7, 8, 9])"
      ]
     },
     "metadata": {},
     "output_type": "display_data"
    }
   ],
   "source": [
    "# criando um array\n",
    "my_array = np.array(((6,12,93,2),\n",
    "                     (5,26,78,90),\n",
    "                     (3,12,16,22),\n",
    "                     (5,3,1,16)))\n",
    "display(my_array)\n",
    "# tipo dos dados\n",
    "display(my_array.dtype)\n",
    "# dimensões da matriz \n",
    "display(my_array.shape)\n",
    "# números de elementos da matriz\n",
    "display(my_array.size)\n",
    "# tamanho de cada elemento da matriz\n",
    "display(my_array.itemsize)\n",
    "# número de dimensões \n",
    "display(my_array.ndim)\n",
    "#criando um matriz com uma linha e cinco colunas\n",
    "my_array = np.array((1,2,3,4,5))\n",
    "display(my_array)\n",
    "#criando um tipo de dados\n",
    "height_type = np.dtype([('height',np.float)])\n",
    "display(height_type)\n",
    "# criando uma matriz com um tipo específico \n",
    "my_array = np.array([(1.78,),(1.69,),(1.88,)],dtype=height_type)\n",
    "display(my_array)\n",
    "# selecionando um elemento da matriz \n",
    "display(my_array[0])\n",
    "\n",
    "# criando matrizes vazias\n",
    "# numpy.empty(shape,dtype,order)\n",
    "empty_array = np.empty([2,2],dtype=int)\n",
    "display(empty_array)\n",
    "\n",
    "#criando um matriz de zeros\n",
    "zeros_array = np.zeros([2,2],dtype=int)\n",
    "display(zeros_array)\n",
    "\n",
    "# matrizes com valores uniformemente distribuídos\n",
    "# numpy.arrange(start, strop, step, dtype)\n",
    "my_array = np.arange(0,10)\n",
    "display(my_array)"
   ]
  },
  {
   "cell_type": "code",
   "execution_count": 27,
   "metadata": {},
   "outputs": [
    {
     "data": {
      "text/plain": [
       "array([ 0,  1,  2,  3,  4,  5,  6,  7,  8,  9, 10, 11, 12, 13, 14, 15])"
      ]
     },
     "metadata": {},
     "output_type": "display_data"
    },
    {
     "data": {
      "text/plain": [
       "array([[ 0,  1,  2,  3],\n",
       "       [ 4,  5,  6,  7],\n",
       "       [ 8,  9, 10, 11],\n",
       "       [12, 13, 14, 15]])"
      ]
     },
     "metadata": {},
     "output_type": "display_data"
    }
   ],
   "source": [
    "# remodelando uma matriz\n",
    "my_array = np.arange(0,16)\n",
    "display(my_array)\n",
    "my_array = np.reshape(my_array,(4,4))\n",
    "display(my_array)"
   ]
  },
  {
   "cell_type": "code",
   "execution_count": 35,
   "metadata": {},
   "outputs": [
    {
     "data": {
      "text/plain": [
       "array([[ 1,  2,  3,  4,  5],\n",
       "       [ 6,  7,  8,  9, 10],\n",
       "       [11, 12, 13, 14, 15],\n",
       "       [16, 17, 18, 19, 20],\n",
       "       [21, 22, 23, 24, 25]])"
      ]
     },
     "metadata": {},
     "output_type": "display_data"
    },
    {
     "data": {
      "text/plain": [
       "array([[26, 25, 24, 23, 22],\n",
       "       [21, 20, 19, 18, 17],\n",
       "       [16, 15, 14, 13, 12],\n",
       "       [11, 10,  9,  8,  7],\n",
       "       [ 6,  5,  4,  3,  2]])"
      ]
     },
     "metadata": {},
     "output_type": "display_data"
    },
    {
     "data": {
      "text/plain": [
       "array([[26, 25, 24, 23, 22,  1,  2,  3,  4,  5],\n",
       "       [21, 20, 19, 18, 17,  6,  7,  8,  9, 10],\n",
       "       [16, 15, 14, 13, 12, 11, 12, 13, 14, 15],\n",
       "       [11, 10,  9,  8,  7, 16, 17, 18, 19, 20],\n",
       "       [ 6,  5,  4,  3,  2, 21, 22, 23, 24, 25]])"
      ]
     },
     "execution_count": 35,
     "metadata": {},
     "output_type": "execute_result"
    }
   ],
   "source": [
    "array_1 = np.reshape(np.arange(1,26),(5,5))\n",
    "display(array_1)\n",
    "array_2 = np.reshape(np.arange(26,1,-1),(5,5))\n",
    "display(array_2)\n",
    "np.concatenate((array_2,array_1),axis=1)"
   ]
  },
  {
   "cell_type": "code",
   "execution_count": null,
   "metadata": {},
   "outputs": [],
   "source": []
  }
 ],
 "metadata": {
  "kernelspec": {
   "display_name": "Python 3",
   "language": "python",
   "name": "python3"
  },
  "language_info": {
   "codemirror_mode": {
    "name": "ipython",
    "version": 3
   },
   "file_extension": ".py",
   "mimetype": "text/x-python",
   "name": "python",
   "nbconvert_exporter": "python",
   "pygments_lexer": "ipython3",
   "version": "3.6.9"
  }
 },
 "nbformat": 4,
 "nbformat_minor": 2
}
