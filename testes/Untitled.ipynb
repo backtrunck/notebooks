{
 "cells": [
  {
   "cell_type": "code",
   "execution_count": 71,
   "metadata": {},
   "outputs": [],
   "source": [
    "import os\n",
    "from openpyxl import load_workbook\n",
    "\n",
    "def set_competence(city,competence):    \n",
    "    try:\n",
    "        COL_CITY,COL_COMPETENCE,COL_PROCESSED = (2,3,4)\n",
    "        found = False\n",
    "        wb = load_workbook(filename = 'municipios_competencias.xlsx')\n",
    "        sheet = ws3 = wb[\"municipios_competencias\"] \n",
    "        for row_number,row in enumerate(sheet.values,start=1):\n",
    "            print(row)\n",
    "            break\n",
    "            if row[COL_CITY] == city and row[COL_COMPETENCE] == competence:                \n",
    "                sheet.cell(row=row_number, column=COL_PROCESSED,value = 1)\n",
    "                found = True\n",
    "                break\n",
    "        if not found:\n",
    "            print('não achou')\n",
    "            return 1\n",
    "    except Exception as e:\n",
    "        print(e.__str__())\n",
    "        return 1\n",
    "    print(os.getcwd())\n",
    "    wb.template = False\n",
    "    wb.save(filename ='/home/lcreina/programacao/python/jupyter/testes/municipios_competencias_t.xlsx')\n",
    "    return 0"
   ]
  },
  {
   "cell_type": "code",
   "execution_count": 72,
   "metadata": {},
   "outputs": [
    {
     "name": "stdout",
     "output_type": "stream",
     "text": [
      "('cd_unidade', 'cd_municipio', 'nome', 'competência', 'processado')\n",
      "não achou\n"
     ]
    },
    {
     "data": {
      "text/plain": [
       "1"
      ]
     },
     "execution_count": 72,
     "metadata": {},
     "output_type": "execute_result"
    }
   ],
   "source": [
    "set_competence('Abaíra','11/2020')"
   ]
  },
  {
   "cell_type": "code",
   "execution_count": null,
   "metadata": {},
   "outputs": [],
   "source": []
  }
 ],
 "metadata": {
  "kernelspec": {
   "display_name": "Python 3",
   "language": "python",
   "name": "python3"
  },
  "language_info": {
   "codemirror_mode": {
    "name": "ipython",
    "version": 3
   },
   "file_extension": ".py",
   "mimetype": "text/x-python",
   "name": "python",
   "nbconvert_exporter": "python",
   "pygments_lexer": "ipython3",
   "version": "3.8.5"
  }
 },
 "nbformat": 4,
 "nbformat_minor": 2
}
