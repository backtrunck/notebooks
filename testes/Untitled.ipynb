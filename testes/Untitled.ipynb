{
 "cells": [
  {
   "cell_type": "markdown",
   "metadata": {},
   "source": [
    "    # Cap 10 - Livro Python for data science\n",
    "    # Getting a Crash Course in MatPloLib"
   ]
  },
  {
   "cell_type": "raw",
   "metadata": {},
   "source": []
  },
  {
   "cell_type": "code",
   "execution_count": 13,
   "metadata": {},
   "outputs": [
    {
     "data": {
      "text/plain": [
       "0     Blue\n",
       "1    Green\n",
       "2      Red\n",
       "3     Blue\n",
       "4      Red\n",
       "dtype: category\n",
       "Categories (3, object): ['Blue', 'Green', 'Red']"
      ]
     },
     "metadata": {},
     "output_type": "display_data"
    },
    {
     "data": {
      "text/plain": [
       "0    NaN\n",
       "1    NaN\n",
       "2    NaN\n",
       "3    NaN\n",
       "4    NaN\n",
       "dtype: category\n",
       "Categories (3, object): ['Azul', 'Verde', 'Vermelho']"
      ]
     },
     "metadata": {},
     "output_type": "display_data"
    }
   ],
   "source": [
    "import pandas as pd\n",
    "car_colors = pd.Series(['Blue','Red','Green'],dtype='category')\n",
    "car_cores = pd.Series(['Blue','Red','Green','Verde/Azul'],dtype='category')\n",
    "car_cores_1 = pd.Series(['Azul','Vermelho','Verde'],dtype='category')\n",
    "car_data = pd.Series(pd.Categorical(['Blue', 'Green', 'Red', 'Blue', 'Red'], categories=car_colors, ordered=False))\n",
    "display(car_data)\n",
    "\n",
    "car_data.loc[car_data.isin(['Red'])]\n",
    "#car_data.cat.set_categories(car_cores,inplace=True)\n",
    "car_data.cat.set_categories(car_cores_1,inplace=True)\n",
    "display(car_data)"
   ]
  }
 ],
 "metadata": {
  "kernelspec": {
   "display_name": "Python 3",
   "language": "python",
   "name": "python3"
  },
  "language_info": {
   "codemirror_mode": {
    "name": "ipython",
    "version": 3
   },
   "file_extension": ".py",
   "mimetype": "text/x-python",
   "name": "python",
   "nbconvert_exporter": "python",
   "pygments_lexer": "ipython3",
   "version": "3.6.9"
  }
 },
 "nbformat": 4,
 "nbformat_minor": 2
}
