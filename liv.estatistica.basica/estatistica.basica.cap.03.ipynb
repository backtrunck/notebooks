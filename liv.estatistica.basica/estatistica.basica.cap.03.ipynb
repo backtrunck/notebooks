{
 "cells": [
  {
   "cell_type": "code",
   "execution_count": 1,
   "metadata": {},
   "outputs": [],
   "source": [
    "import pandas as pd\n",
    "import numpy as np\n",
    "import matplotlib.pyplot as plt\n",
    "from stemgraphic import stem_graphic\n",
    "from pandas.api.types import CategoricalDtype"
   ]
  },
  {
   "cell_type": "code",
   "execution_count": 2,
   "metadata": {},
   "outputs": [],
   "source": [
    "def freqs2cases(df, freq_col, cases_cols):\n",
    "        def itcases():\n",
    "            for i, row in df.iterrows():\n",
    "                for j in range(int(row[freq_col])):\n",
    "                    yield row[cases_cols]\n",
    "        return pd.DataFrame(itcases())"
   ]
  },
  {
   "cell_type": "code",
   "execution_count": 3,
   "metadata": {},
   "outputs": [],
   "source": [
    "grau_instrucao = ['ensino fundamental', 'ensino médio', 'superior']\n",
    "grau_instrucao_tipo = CategoricalDtype(categories=grau_instrucao, ordered=True) #criando variável categórica\n",
    "\n",
    "df_emprg_orc = pd.read_excel('estatistica.basica.bussab.9ed/Dados_EB.xls',\n",
    "                      header=1,\n",
    "                      index_col=0,\n",
    "                      names=['num','estado_civil','instrucao','filhos','salario','anos','meses','procedencia'],\n",
    "                      dtype={'instrucao':grau_instrucao_tipo})\n",
    "df_emprg_orc.index.name = 'Num'\n",
    "df_emprg_orc['filhos'].fillna(0,inplace=True)\n",
    "df_emprg_orc['filhos'] = df_emprg_orc['filhos'].astype('int64')"
   ]
  },
  {
   "cell_type": "code",
   "execution_count": 4,
   "metadata": {},
   "outputs": [
    {
     "data": {
      "text/plain": [
       "'Tabela 2.5 Número de Filhos'"
      ]
     },
     "metadata": {},
     "output_type": "display_data"
    },
    {
     "data": {
      "text/html": [
       "<div>\n",
       "<style scoped>\n",
       "    .dataframe tbody tr th:only-of-type {\n",
       "        vertical-align: middle;\n",
       "    }\n",
       "\n",
       "    .dataframe tbody tr th {\n",
       "        vertical-align: top;\n",
       "    }\n",
       "\n",
       "    .dataframe thead th {\n",
       "        text-align: right;\n",
       "    }\n",
       "</style>\n",
       "<table border=\"1\" class=\"dataframe\">\n",
       "  <thead>\n",
       "    <tr style=\"text-align: right;\">\n",
       "      <th></th>\n",
       "      <th>ni</th>\n",
       "      <th>ni acum</th>\n",
       "      <th>fi</th>\n",
       "      <th>100fi</th>\n",
       "      <th>100fi Acum</th>\n",
       "      <th>zi x ni</th>\n",
       "    </tr>\n",
       "    <tr>\n",
       "      <th>num_filhos zi</th>\n",
       "      <th></th>\n",
       "      <th></th>\n",
       "      <th></th>\n",
       "      <th></th>\n",
       "      <th></th>\n",
       "      <th></th>\n",
       "    </tr>\n",
       "  </thead>\n",
       "  <tbody>\n",
       "    <tr>\n",
       "      <th>0</th>\n",
       "      <td>4</td>\n",
       "      <td>4</td>\n",
       "      <td>0.20</td>\n",
       "      <td>20.0</td>\n",
       "      <td>20.0</td>\n",
       "      <td>0</td>\n",
       "    </tr>\n",
       "    <tr>\n",
       "      <th>1</th>\n",
       "      <td>5</td>\n",
       "      <td>9</td>\n",
       "      <td>0.25</td>\n",
       "      <td>25.0</td>\n",
       "      <td>45.0</td>\n",
       "      <td>5</td>\n",
       "    </tr>\n",
       "    <tr>\n",
       "      <th>2</th>\n",
       "      <td>7</td>\n",
       "      <td>16</td>\n",
       "      <td>0.35</td>\n",
       "      <td>35.0</td>\n",
       "      <td>80.0</td>\n",
       "      <td>14</td>\n",
       "    </tr>\n",
       "    <tr>\n",
       "      <th>3</th>\n",
       "      <td>3</td>\n",
       "      <td>19</td>\n",
       "      <td>0.15</td>\n",
       "      <td>15.0</td>\n",
       "      <td>95.0</td>\n",
       "      <td>9</td>\n",
       "    </tr>\n",
       "    <tr>\n",
       "      <th>5</th>\n",
       "      <td>1</td>\n",
       "      <td>20</td>\n",
       "      <td>0.05</td>\n",
       "      <td>5.0</td>\n",
       "      <td>100.0</td>\n",
       "      <td>5</td>\n",
       "    </tr>\n",
       "  </tbody>\n",
       "</table>\n",
       "</div>"
      ],
      "text/plain": [
       "               ni  ni acum    fi  100fi  100fi Acum  zi x ni\n",
       "num_filhos zi                                               \n",
       "0               4        4  0.20   20.0        20.0        0\n",
       "1               5        9  0.25   25.0        45.0        5\n",
       "2               7       16  0.35   35.0        80.0       14\n",
       "3               3       19  0.15   15.0        95.0        9\n",
       "5               1       20  0.05    5.0       100.0        5"
      ]
     },
     "execution_count": 4,
     "metadata": {},
     "output_type": "execute_result"
    }
   ],
   "source": [
    "tab_2_5 = df_emprg_orc[df_emprg_orc['estado_civil'] == 'casado'].groupby(df_emprg_orc['filhos'])['filhos'].count()\n",
    "tab_2_5 = pd.DataFrame(tab_2_5)\n",
    "tab_2_5.index.name = 'num_filhos zi'\n",
    "tab_2_5.columns = ['ni']\n",
    "tab_2_5['ni acum'] = tab_2_5['ni'].cumsum()\n",
    "tab_2_5['fi'] =  round(tab_2_5['ni']/tab_2_5['ni'].sum(),2)\n",
    "tab_2_5['100fi'] = tab_2_5['fi'] * 100\n",
    "tab_2_5['100fi Acum'] = round(tab_2_5['ni acum']/tab_2_5['ni'].sum(),4) * 100\n",
    "tab_2_5['zi x ni'] = tab_2_5['ni'] * tab_2_5.index\n",
    "display('Tabela 2.5 Número de Filhos')\n",
    "tab_2_5"
   ]
  },
  {
   "cell_type": "code",
   "execution_count": 5,
   "metadata": {},
   "outputs": [
    {
     "data": {
      "text/plain": [
       "1.65"
      ]
     },
     "metadata": {},
     "output_type": "display_data"
    },
    {
     "data": {
      "text/plain": [
       "1.65"
      ]
     },
     "metadata": {},
     "output_type": "display_data"
    },
    {
     "data": {
      "text/plain": [
       "1.65"
      ]
     },
     "metadata": {},
     "output_type": "display_data"
    }
   ],
   "source": [
    "# Exemplo 3.1 \n",
    "#média de filhos \n",
    "display(tab_2_5['zi x ni'].sum()/tab_2_5['ni'].sum())\n",
    "media_filhos = np.average(tab_2_5.index.values,weights=tab_2_5['ni'])\n",
    "display(media_filhos)\n",
    "display((tab_2_5.index*tab_2_5['fi']).sum())\n"
   ]
  },
  {
   "cell_type": "code",
   "execution_count": 6,
   "metadata": {},
   "outputs": [
    {
     "data": {
      "text/plain": [
       "'Tabela 2.6 - Salários'"
      ]
     },
     "metadata": {},
     "output_type": "display_data"
    },
    {
     "data": {
      "text/html": [
       "<div>\n",
       "<style scoped>\n",
       "    .dataframe tbody tr th:only-of-type {\n",
       "        vertical-align: middle;\n",
       "    }\n",
       "\n",
       "    .dataframe tbody tr th {\n",
       "        vertical-align: top;\n",
       "    }\n",
       "\n",
       "    .dataframe thead th {\n",
       "        text-align: right;\n",
       "    }\n",
       "</style>\n",
       "<table border=\"1\" class=\"dataframe\">\n",
       "  <thead>\n",
       "    <tr style=\"text-align: right;\">\n",
       "      <th></th>\n",
       "      <th>pt medio si</th>\n",
       "      <th>ni</th>\n",
       "      <th>ni acum</th>\n",
       "      <th>fi</th>\n",
       "      <th>100fi</th>\n",
       "      <th>100fi Acum</th>\n",
       "    </tr>\n",
       "  </thead>\n",
       "  <tbody>\n",
       "    <tr>\n",
       "      <th>[4, 8)</th>\n",
       "      <td>6.0</td>\n",
       "      <td>10</td>\n",
       "      <td>10</td>\n",
       "      <td>0.2778</td>\n",
       "      <td>27.78</td>\n",
       "      <td>27.78</td>\n",
       "    </tr>\n",
       "    <tr>\n",
       "      <th>[8, 12)</th>\n",
       "      <td>10.0</td>\n",
       "      <td>12</td>\n",
       "      <td>22</td>\n",
       "      <td>0.3333</td>\n",
       "      <td>33.33</td>\n",
       "      <td>61.11</td>\n",
       "    </tr>\n",
       "    <tr>\n",
       "      <th>[12, 16)</th>\n",
       "      <td>14.0</td>\n",
       "      <td>8</td>\n",
       "      <td>30</td>\n",
       "      <td>0.2222</td>\n",
       "      <td>22.22</td>\n",
       "      <td>83.33</td>\n",
       "    </tr>\n",
       "    <tr>\n",
       "      <th>[16, 20)</th>\n",
       "      <td>18.0</td>\n",
       "      <td>5</td>\n",
       "      <td>35</td>\n",
       "      <td>0.1389</td>\n",
       "      <td>13.89</td>\n",
       "      <td>97.22</td>\n",
       "    </tr>\n",
       "    <tr>\n",
       "      <th>[20, 24)</th>\n",
       "      <td>22.0</td>\n",
       "      <td>1</td>\n",
       "      <td>36</td>\n",
       "      <td>0.0278</td>\n",
       "      <td>2.78</td>\n",
       "      <td>100.00</td>\n",
       "    </tr>\n",
       "  </tbody>\n",
       "</table>\n",
       "</div>"
      ],
      "text/plain": [
       "          pt medio si  ni  ni acum      fi  100fi  100fi Acum\n",
       "[4, 8)            6.0  10       10  0.2778  27.78       27.78\n",
       "[8, 12)          10.0  12       22  0.3333  33.33       61.11\n",
       "[12, 16)         14.0   8       30  0.2222  22.22       83.33\n",
       "[16, 20)         18.0   5       35  0.1389  13.89       97.22\n",
       "[20, 24)         22.0   1       36  0.0278   2.78      100.00"
      ]
     },
     "execution_count": 6,
     "metadata": {},
     "output_type": "execute_result"
    }
   ],
   "source": [
    "amplitude = 4\n",
    "bins = range(4,28,amplitude)\n",
    "bins_medio = [round((bins[i] + bins[i+1])/2,1) for i in range(len(bins)) if i+1 < len(bins)] #pontos médios\n",
    "tab_2_6 = pd.DataFrame(pd.cut(df_emprg_orc['salario'],bins=range(4,28,4),right=False).value_counts(sort=False))\n",
    "tab_2_6.columns = ['ni']\n",
    "tab_2_6['ni acum'] = tab_2_6['ni'].cumsum()\n",
    "tab_2_6['pt medio si'] = bins_medio\n",
    "tab_2_6 = tab_2_6.reindex(['pt medio si','ni','ni acum'],axis='columns')\n",
    "\n",
    "tab_2_6['fi'] = round(tab_2_6['ni']/tab_2_6['ni'].sum(),4)\n",
    "tab_2_6['100fi'] = tab_2_6['fi']*100\n",
    "tab_2_6['100fi Acum'] = round(tab_2_6['ni acum']/tab_2_6['ni'].sum(),4) * 100\n",
    "display('Tabela 2.6 - Salários')\n",
    "tab_2_6\n"
   ]
  },
  {
   "cell_type": "code",
   "execution_count": 7,
   "metadata": {},
   "outputs": [
    {
     "name": "stdout",
     "output_type": "stream",
     "text": [
      "Quantidade: 36\n",
      "média: 11.22\n",
      "Frequencia Anterior: 10.0\n",
      "Frequencia Mediana: 12.0\n",
      "Limite Inferior da Classe Mediana: 8\n",
      "Mediana: 10.67\n"
     ]
    }
   ],
   "source": [
    "#Exemplo 3.2 \n",
    "metade_amostra = tab_2_6['ni'].sum()/2\n",
    "classe_mediana = tab_2_6[tab_2_6['ni acum'] >= metade_amostra].iloc[0] #pega primeira classe maior ou igual que a metade\n",
    "lim_inferior = classe_mediana.name.left\n",
    "freq_anterior = tab_2_6[tab_2_6['ni acum'] < metade_amostra].iloc[-1]['ni']#pega primeira classe menor que a metade\n",
    "freq_mediana = classe_mediana['ni']\n",
    "mediana = round(lim_inferior + (metade_amostra - freq_anterior) * amplitude / freq_mediana,2)\n",
    "media_salarios=round(np.average(tab_2_6['pt medio si'],weights=tab_2_6['ni']),2)\n",
    "print(f\"Quantidade: {tab_2_6['ni'].sum()}\")\n",
    "print(f\"média: {media_salarios}\")\n",
    "print(f\"Frequencia Anterior: {freq_anterior}\")\n",
    "print(f\"Frequencia Mediana: {freq_mediana}\")\n",
    "print(f\"Limite Inferior da Classe Mediana: {lim_inferior}\")\n",
    "print(f'Mediana: {mediana}')\n",
    "\n",
    "# display(tab_2_6.index.categories.values[0].left)\n",
    "# display(tab_2_6.index.categories.values[0].right)\n",
    "# display(tab_2_6.index.categories.values[0])"
   ]
  },
  {
   "cell_type": "code",
   "execution_count": 8,
   "metadata": {},
   "outputs": [
    {
     "name": "stdout",
     "output_type": "stream",
     "text": [
      "Moda da Procedência: 0    outra\n",
      "dtype: object\n",
      "Moda do Grau de Instrução: 0    ensino médio\n",
      "Name: instrucao, dtype: category\n",
      "Categories (3, object): ['ensino fundamental' < 'ensino médio' < 'superior']\n"
     ]
    }
   ],
   "source": [
    "#Exemplo 3.2 (continuação) Calcular a moda para região de procedência, grau de instrução\n",
    "#display(df_emprg_orc['procedencia'])\n",
    "print(f'Moda da Procedência: {df_emprg_orc[\"procedencia\"].mode()}')\n",
    "print(f'Moda do Grau de Instrução: {df_emprg_orc[\"instrucao\"].mode()}')\n",
    "#display(df_emprg_orc['instrucao'])\n",
    "#display(df_emprg_orc['instrucao'].mode())()"
   ]
  },
  {
   "cell_type": "code",
   "execution_count": 9,
   "metadata": {},
   "outputs": [
    {
     "name": "stdout",
     "output_type": "stream",
     "text": [
      "Tabela 2.5 - Variável Número de filhos\n",
      "Desvio Médio: 0.985\n",
      "Variância: 1.528\n",
      "Desvio Padrão: 1.236\n"
     ]
    }
   ],
   "source": [
    "#Exemplo 3.3 \n",
    "tab_2_5['desvio'] = abs(tab_2_5.index - media_filhos)\n",
    "tab_2_5['desvio_quadrado'] = pow(tab_2_5.index - media_filhos,2)\n",
    "print('Tabela 2.5 - Variável Número de filhos')\n",
    "print(f'Desvio Médio: {round((tab_2_5.desvio * tab_2_5.ni).sum()/tab_2_5.ni.sum(),3)}')\n",
    "print(f'Variância: {round((tab_2_5.desvio_quadrado * tab_2_5.ni).sum()/tab_2_5.ni.sum(),3)}')\n",
    "print(f'Desvio Padrão: {round(pow((tab_2_5.desvio_quadrado * tab_2_5.ni).sum()/tab_2_5.ni.sum(),0.5),3)}')"
   ]
  },
  {
   "cell_type": "code",
   "execution_count": 10,
   "metadata": {},
   "outputs": [
    {
     "name": "stdout",
     "output_type": "stream",
     "text": [
      "Tabela 2.6 - Variável Salários\n",
      "Desvio Médio: 3.716\n",
      "Variância: 19.395\n",
      "Desvio Padrão: 4.404\n"
     ]
    }
   ],
   "source": [
    "#Exemplo 3.4\n",
    "tab_2_6['desvio'] = abs(tab_2_6['pt medio si'] - media_salarios)\n",
    "tab_2_6['desvio_quadrado'] = pow(tab_2_6['pt medio si'] - media_salarios,2)\n",
    "print('Tabela 2.6 - Variável Salários')\n",
    "print(f'Desvio Médio: {round((tab_2_6.desvio * tab_2_6.ni).sum()/tab_2_6.ni.sum(),3)}')\n",
    "print(f'Variância: {round((tab_2_6.desvio_quadrado * tab_2_6.ni).sum()/tab_2_6.ni.sum(),3)}')\n",
    "print(f'Desvio Padrão: {round(pow((tab_2_6.desvio_quadrado * tab_2_6.ni).sum()/tab_2_6.ni.sum(),0.5),3)}')"
   ]
  },
  {
   "cell_type": "markdown",
   "metadata": {},
   "source": [
    "### Problema 1\n",
    "<p> Quer se estudar o número de erros de impressão de um livro, para isso escolheu-se um amostra de 50 páginas, encontrando\n",
    "-se o número de erros por página na tabela abaixo</p>\n",
    "<ol>\n",
    "<li> Qual o número médio de erros por página\n",
    "<li> E o número mediano\n",
    "<li> Qual é o desvio padrão\n",
    "<li> faça uma representação gráfica da distribuição\n",
    "<li> Se o livro tem 500 páginas, qual é o número total de erros esperados no livro?\n",
    "</ol>\n"
   ]
  },
  {
   "cell_type": "code",
   "execution_count": 11,
   "metadata": {},
   "outputs": [
    {
     "data": {
      "text/plain": [
       "'Tabela de Erros'"
      ]
     },
     "metadata": {},
     "output_type": "display_data"
    },
    {
     "data": {
      "text/html": [
       "<div>\n",
       "<style scoped>\n",
       "    .dataframe tbody tr th:only-of-type {\n",
       "        vertical-align: middle;\n",
       "    }\n",
       "\n",
       "    .dataframe tbody tr th {\n",
       "        vertical-align: top;\n",
       "    }\n",
       "\n",
       "    .dataframe thead th {\n",
       "        text-align: right;\n",
       "    }\n",
       "</style>\n",
       "<table border=\"1\" class=\"dataframe\">\n",
       "  <thead>\n",
       "    <tr style=\"text-align: right;\">\n",
       "      <th></th>\n",
       "      <th>erros</th>\n",
       "      <th>ni</th>\n",
       "      <th>ni_acum</th>\n",
       "      <th>ni_x_erros</th>\n",
       "    </tr>\n",
       "  </thead>\n",
       "  <tbody>\n",
       "    <tr>\n",
       "      <th>0</th>\n",
       "      <td>0</td>\n",
       "      <td>25</td>\n",
       "      <td>25</td>\n",
       "      <td>0</td>\n",
       "    </tr>\n",
       "    <tr>\n",
       "      <th>1</th>\n",
       "      <td>1</td>\n",
       "      <td>20</td>\n",
       "      <td>45</td>\n",
       "      <td>20</td>\n",
       "    </tr>\n",
       "    <tr>\n",
       "      <th>2</th>\n",
       "      <td>2</td>\n",
       "      <td>3</td>\n",
       "      <td>48</td>\n",
       "      <td>6</td>\n",
       "    </tr>\n",
       "    <tr>\n",
       "      <th>3</th>\n",
       "      <td>3</td>\n",
       "      <td>1</td>\n",
       "      <td>49</td>\n",
       "      <td>3</td>\n",
       "    </tr>\n",
       "    <tr>\n",
       "      <th>4</th>\n",
       "      <td>4</td>\n",
       "      <td>1</td>\n",
       "      <td>50</td>\n",
       "      <td>4</td>\n",
       "    </tr>\n",
       "  </tbody>\n",
       "</table>\n",
       "</div>"
      ],
      "text/plain": [
       "   erros  ni  ni_acum  ni_x_erros\n",
       "0      0  25       25           0\n",
       "1      1  20       45          20\n",
       "2      2   3       48           6\n",
       "3      3   1       49           3\n",
       "4      4   1       50           4"
      ]
     },
     "metadata": {},
     "output_type": "display_data"
    },
    {
     "name": "stdout",
     "output_type": "stream",
     "text": [
      "Número Médios de erros: 0.66\n",
      "Número Mediano: 0.5\n",
      "Variança: 0.72\n",
      "Desvio Padrão: 0.85\n",
      "Quant. de Erros esperados num livro de 500 páginas: 330.0 erros.\n"
     ]
    },
    {
     "data": {
      "text/plain": [
       "[Text(0.5, 1.0, 'Histograma - Quantidade de Erros'),\n",
       " Text(0.5, 0, 'Quantidade de Erros'),\n",
       " Text(0, 0.5, '')]"
      ]
     },
     "execution_count": 11,
     "metadata": {},
     "output_type": "execute_result"
    },
    {
     "data": {
      "image/png": "[encoded data removed]",
      "text/plain": [
       "<Figure size 720x360 with 2 Axes>"
      ]
     },
     "metadata": {
      "needs_background": "light"
     },
     "output_type": "display_data"
    }
   ],
   "source": [
    "tabela_erros = pd.DataFrame({'erros':[0,1,2,3,4],'ni':[25,20,3,1,1]})\n",
    "tabela_erros['ni_acum'] = tabela_erros.ni.cumsum()\n",
    "tabela_erros['ni_x_erros'] = tabela_erros.erros * tabela_erros.ni\n",
    "tabela_analitica =  freqs2cases(tabela_erros, 'ni', 'erros') #transforma a distribuição de frequencia em dados brutos\n",
    "media_erros = tabela_analitica.mean()[0]\n",
    "display('Tabela de Erros')\n",
    "display(tabela_erros)\n",
    "print(f'Número Médios de erros: {media_erros}')\n",
    "mediana_erros = tabela_analitica.median()[0]\n",
    "print(f'Número Mediano: {mediana_erros}')\n",
    "varianca_erros = round(tabela_analitica.var()[0],2)\n",
    "print(f'Variança: {varianca_erros}')\n",
    "desv_padrao_erros = round(tabela_analitica.std()[0],2)\n",
    "print(f'Desvio Padrão: {desv_padrao_erros}')\n",
    "print(f'Quant. de Erros esperados num livro de 500 páginas: {media_erros * 500} erros.')\n",
    "\n",
    "# fig,ax = plt.subplots(figsize=(10, 6))\n",
    "fig,axes = plt.subplots(1,2,figsize=(10,5))\n",
    "\n",
    "\n",
    "\n",
    "tabela_erros.plot(kind='bar',x='erros',y='ni',ax=axes[0],legend=False)\n",
    "axes[0].set(title='Gráficos de Barras - Quantidade de Erros',xlabel='Quantidade de Erros',ylabel='Frequência Absoluta')\n",
    "tabela_analitica.plot(kind='hist',bins=[0,1,2,3,4],ax=axes[1],legend=False)\n",
    "axes[1].set(title='Histograma - Quantidade de Erros',xlabel='Quantidade de Erros',ylabel='')\n"
   ]
  },
  {
   "cell_type": "markdown",
   "metadata": {},
   "source": [
    "### Problema 2\n",
    "<p> As taxas de juros recebidas por 10 ações durante um certo período foram (medidas em porcentagem)\n",
    " 2.59, 2.64,2.60,2.62,2.57,2.55,2.61,2.50,2.63,2.64. Calcule a média, a mediana e o desvio padrão</p>"
   ]
  },
  {
   "cell_type": "code",
   "execution_count": 12,
   "metadata": {},
   "outputs": [
    {
     "name": "stdout",
     "output_type": "stream",
     "text": [
      "A média é: 2.6\n",
      "A mediana é: 2.6\n",
      "O desvio padrão é: 0.04\n"
     ]
    }
   ],
   "source": [
    "taxa_juros = pd.Series([2.59, 2.64,2.60,2.62,2.57,2.55,2.61,2.50,2.63,2.64])\n",
    "print(f'A média é: {round(taxa_juros.mean(),2)}')\n",
    "print(f'A mediana é: {round(taxa_juros.median(),2)}')\n",
    "print(f'O desvio padrão é: {round(taxa_juros.std(),2)}')"
   ]
  },
  {
   "cell_type": "markdown",
   "metadata": {},
   "source": [
    "### Problema 3\n",
    "<p> Para facilitar um projeto de ampliação da rede de esgoto de um certa região de um cidade, as autoridades tomaram uma \n",
    "amostra de tamanho 50 do 270 quarteirões que compõem a região e foram encontrados os seguinte números de casas por\n",
    "quarteirão</p>\n",
    "<ol>\n",
    "<li> Use cinco intervalos e constru um histograma\n",
    "<li> Determine uma medida de posição central e uma medida de dispersão\n",
    "</ol>"
   ]
  },
  {
   "cell_type": "code",
   "execution_count": 13,
   "metadata": {},
   "outputs": [
    {
     "name": "stdout",
     "output_type": "stream",
     "text": [
      "média = 40.42, mediana=31.0, desvio padrão=26.08\n"
     ]
    },
    {
     "data": {
      "image/png": "[encoded data removed]",
      "text/plain": [
       "<Figure size 720x360 with 1 Axes>"
      ]
     },
     "metadata": {
      "needs_background": "light"
     },
     "output_type": "display_data"
    }
   ],
   "source": [
    "casas_por_quarteirao=[2,2,3,10,13,14,15,15,16,16,\n",
    "                      18,18,20,21,22,22,23,24,25,25,\n",
    "                      26,27,29,29,30,32,36,42,44,45,\n",
    "                      45,46,48,52,58,59,61,61,61,65,\n",
    "                      66,66,68,75,78,80,89,90,92,97]\n",
    "\n",
    "df_casas_quart = pd.Series(casas_por_quarteirao)\n",
    "\n",
    "fig,axes = plt.subplots(figsize=(10,5))\n",
    "df_casas_quart.plot(kind='hist',bins=5,ax=axes)\n",
    "axes.set(title='Histograma - Casas por Quarteirâo',xlabel='Casa por Quarteirão ',ylabel='Frequência Absoluta')\n",
    "\n",
    "media_casas = round(df_casas_quart.mean(),2)\n",
    "mediana_casas = round(df_casas_quart.median(),2)\n",
    "desvio_padrao_casas = round(df_casas_quart.std(),2)\n",
    "print(f\"média = {media_casas}, mediana={mediana_casas}, desvio padrão={desvio_padrao_casas}\")\n"
   ]
  },
  {
   "cell_type": "markdown",
   "metadata": {},
   "source": [
    "### Problema 4.c\n",
    "<p> Esboce os histogramas de três variaveis (X, Y, Z) com a mesma média aritmética, mas com as variâncias ordenadas em\n",
    "ordem crescente</p>"
   ]
  },
  {
   "cell_type": "code",
   "execution_count": 14,
   "metadata": {},
   "outputs": [
    {
     "data": {
      "text/plain": [
       "<AxesSubplot:ylabel='Frequency'>"
      ]
     },
     "execution_count": 14,
     "metadata": {},
     "output_type": "execute_result"
    },
    {
     "data": {
      "image/png": "[encoded data removed]",
      "text/plain": [
       "<Figure size 1080x360 with 3 Axes>"
      ]
     },
     "metadata": {
      "needs_background": "light"
     },
     "output_type": "display_data"
    }
   ],
   "source": [
    "dados = pd.DataFrame({'X':[102,104,106,108,110,112,112,112,112,100,100,100,100,100,100,98,98,98,98,96,94,92,90,88],\n",
    "                      'Y':[106,112,118,124,130,136,136,136,136,100,100,100,100,100,100,94,94,94,94,88,82,76,70,64],\n",
    "                      'Z':[110,120,130,140,150,160,160,160,160,100,100,100,100,100,100,90,90,90,90,80,70,60,50,40]})\n",
    "dados[['X','Y','Z']].var()\n",
    "dados[['X','Y','Z']].mean()\n",
    "fig,axes = plt.subplots(1,3,figsize=(15,5))\n",
    "dados['X'].plot(kind='hist',bins=8,ax=axes[0])\n",
    "dados['Y'].plot(kind='hist',bins=8,ax=axes[1])\n",
    "dados['Z'].plot(kind='hist',bins=8,ax=axes[2])"
   ]
  },
  {
   "cell_type": "markdown",
   "metadata": {},
   "source": [
    "### Problema 7 \n",
    "<p>Obtenha o esquema de cinco números para o dados do problema 3. Calcule a distância interquartil e as dispersões \n",
    "inferior e superior</p>"
   ]
  },
  {
   "cell_type": "code",
   "execution_count": 15,
   "metadata": {},
   "outputs": [
    {
     "name": "stdout",
     "output_type": "stream",
     "text": [
      "Valor Minimo: 2\n",
      "1º Quartil: 20.25\n",
      "Valor Mediano: 31.0\n",
      "3º Quartil: 61.0\n",
      "Valor Máximo: 97\n",
      "Distância Interquartil: 40.75\n",
      "Dispersão Inferior: 18.25\n",
      "Dispersão Superior: 36.0\n"
     ]
    }
   ],
   "source": [
    "df = df_casas_quart\n",
    "print(f'Valor Minimo: {df.min()}')\n",
    "print(f'1º Quartil: {df.quantile(q=0.25)}')\n",
    "print(f'Valor Mediano: {df.quantile(q=0.5)}')\n",
    "print(f'3º Quartil: {df.quantile(q=0.75)}')\n",
    "print(f'Valor Máximo: {df.max()}')\n",
    "\n",
    "print(f'Distância Interquartil: {df.quantile(q=0.75) - df.quantile(q=0.25)}')\n",
    "print(f'Dispersão Inferior: {df.quantile(q=0.25) - df.min()}')\n",
    "print(f'Dispersão Superior: {df.max() - df.quantile(q=0.75)}')"
   ]
  },
  {
   "cell_type": "markdown",
   "metadata": {},
   "source": [
    "### Problema 8\n",
    "\n",
    "<p>Refaça o problema anterior, utilizando desta vez os dados do problema 5, do capitulo 2</p>\n"
   ]
  },
  {
   "cell_type": "code",
   "execution_count": 16,
   "metadata": {},
   "outputs": [
    {
     "name": "stdout",
     "output_type": "stream",
     "text": [
      "Valor Minimo: 20\n",
      "1º Quartil: 30.0\n",
      "Valor Mediano: 34.5\n",
      "3º Quartil: 40.0\n",
      "Valor Máximo: 48\n",
      "Distância Interquartil: 10.0: \n",
      "Dispersão Inferior: 10.0\n",
      "Dispersão Superior: 8.0\n"
     ]
    }
   ],
   "source": [
    "#idade\n",
    "df = df_emprg_orc['anos']\n",
    "print(f'Valor Minimo: {df.min()}')\n",
    "print(f'1º Quartil: {df.quantile(q=0.25)}')\n",
    "print(f'Valor Mediano: {df.quantile(q=0.5)}')\n",
    "print(f'3º Quartil: {df.quantile(q=0.75)}')\n",
    "print(f'Valor Máximo: {df.max()}')\n",
    "\n",
    "print(f'Distância Interquartil: {df.quantile(q=0.75) - df.quantile(q=0.25)}: ')\n",
    "print(f'Dispersão Inferior: {df.quantile(q=0.25) - df.min()}')\n",
    "print(f'Dispersão Superior: {df.max() - df.quantile(q=0.75)}')"
   ]
  },
  {
   "cell_type": "markdown",
   "metadata": {},
   "source": [
    "### Problema 9\n",
    "\n",
    "<p>Obter os 3 quartis, q(0,1), q(0,90) para os dados do problema 3 (casas por quarteirão)</p>"
   ]
  },
  {
   "cell_type": "code",
   "execution_count": 17,
   "metadata": {},
   "outputs": [
    {
     "name": "stdout",
     "output_type": "stream",
     "text": [
      "Quartis (1=20.25) (2=31.0) (3=61.0) (10%=13.9) (90%=78.2)\n"
     ]
    }
   ],
   "source": [
    "q1 = df_casas_quart.quantile(0.25)\n",
    "q2 = df_casas_quart.quantile(0.5)\n",
    "q3 = df_casas_quart.quantile(0.75)\n",
    "q_10 = df_casas_quart.quantile(0.1)\n",
    "q_90 = df_casas_quart.quantile(0.9)\n",
    "print(f'Quartis (1={q1}) (2={q2}) (3={q3}) (10%={q_10}) (90%={q_90})')"
   ]
  },
  {
   "cell_type": "markdown",
   "metadata": {},
   "source": [
    "### Problema 10\n",
    "\n",
    "<p>Para a variável população do CD-Brasil obetenha q(0.10), q(0.25), q(0.50), q(0.75), q(0.80), q(0.95)</p>"
   ]
  },
  {
   "cell_type": "code",
   "execution_count": 18,
   "metadata": {},
   "outputs": [
    {
     "name": "stdout",
     "output_type": "stream",
     "text": [
      "Quartis (1=2360858.0) (2=3351669.0) (3=8335944.0) (10%=1007530.2)  (80%=9924930.0) (95%=18117608.099999998)\n"
     ]
    },
    {
     "data": {
      "text/plain": [
       "27"
      ]
     },
     "metadata": {},
     "output_type": "display_data"
    }
   ],
   "source": [
    "df_cd_brasil =  pd.read_excel('estatistica.basica.bussab.9ed/CD-Brasil.xls',\n",
    "                      header=4,\n",
    "                      names=['regiao','uf','superficie','populacao','densidade'])\n",
    "filtro = (df_cd_brasil['uf'] == 'Subtot') | (df_cd_brasil['uf'] == 'Total')\n",
    "df_cd_brasil = df_cd_brasil[~filtro] #retira os Subtotais e totais\n",
    "df_cd_brasil['regiao'].fillna(method='ffill',inplace=True) #preenche as regiões vazias com a anterior\n",
    "\n",
    "q1 = df_cd_brasil['populacao'].quantile(0.25)\n",
    "q2 = df_cd_brasil['populacao'].quantile(0.5)\n",
    "q3 = df_cd_brasil['populacao'].quantile(0.75)\n",
    "q_10 = df_cd_brasil['populacao'].quantile(0.1)\n",
    "q_80 = df_cd_brasil['populacao'].quantile(0.8)\n",
    "q_95 = df_cd_brasil['populacao'].quantile(0.95)\n",
    "print(f'Quartis (1={q1}) (2={q2}) (3={q3}) (10%={q_10})  (80%={q_80}) (95%={q_95})')\n",
    "display(df_cd_brasil['populacao'].count())"
   ]
  },
  {
   "cell_type": "code",
   "execution_count": 19,
   "metadata": {},
   "outputs": [
    {
     "name": "stdout",
     "output_type": "stream",
     "text": [
      "Quartis (1=109.15) (2=135.8) (3=206.2, mínimo:84.7, máximo:988.8\n"
     ]
    }
   ],
   "source": [
    "#Exemplo 3.8\n",
    "\n",
    "\n",
    "df_cd_municipio =  pd.read_excel('estatistica.basica.bussab.9ed/CD-Municipios.xls',\n",
    "                    header=0,\n",
    "                      names=['num','municipio','populacao'],\n",
    "                      index_col=0)\n",
    "maiores_cidades_15 = df_cd_municipio.sort_values(by='populacao',ascending=False).head(15)\n",
    "q1 = maiores_cidades_15['populacao'].quantile(0.25)\n",
    "q2 = maiores_cidades_15['populacao'].quantile(0.5)\n",
    "q3 = maiores_cidades_15['populacao'].quantile(0.75)\n",
    "minimo = maiores_cidades_15['populacao'].min()\n",
    "maximo = maiores_cidades_15['populacao'].max()\n",
    "print(f'Quartis (1={q1}) (2={q2}) (3={q3}, mínimo:{minimo}, máximo:{maximo}')"
   ]
  },
  {
   "cell_type": "code",
   "execution_count": 20,
   "metadata": {},
   "outputs": [
    {
     "data": {
      "text/plain": [
       "[Text(0.5, 1.0, 'Box Plot - Quinze Maiores Cidades do Brasil'),\n",
       " Text(0.5, 0, ''),\n",
       " Text(0, 0.5, 'população (mil)'),\n",
       " [<matplotlib.axis.YTick at 0x7f15daada7f0>,\n",
       "  <matplotlib.axis.YTick at 0x7f15daada3a0>,\n",
       "  <matplotlib.axis.YTick at 0x7f15daad81f0>,\n",
       "  <matplotlib.axis.YTick at 0x7f15dac541c0>,\n",
       "  <matplotlib.axis.YTick at 0x7f15dac546d0>,\n",
       "  <matplotlib.axis.YTick at 0x7f15dac54be0>,\n",
       "  <matplotlib.axis.YTick at 0x7f15dac58130>]]"
      ]
     },
     "execution_count": 20,
     "metadata": {},
     "output_type": "execute_result"
    },
    {
     "data": {
      "image/png": "[encoded data removed]",
      "text/plain": [
       "<Figure size 360x720 with 1 Axes>"
      ]
     },
     "metadata": {
      "needs_background": "light"
     },
     "output_type": "display_data"
    }
   ],
   "source": [
    "fig,axes = plt.subplots(figsize=(5,10))\n",
    "maiores_cidades_15.plot(kind='box',ax=axes)\n",
    "yticks = [70,80,100,180,240,600,1000]\n",
    "axes.set(title='Box Plot - Quinze Maiores Cidades do Brasil',\n",
    "            xlabel='',\n",
    "            ylabel='população (mil)',\n",
    "            yticks=yticks)"
   ]
  },
  {
   "cell_type": "code",
   "execution_count": 21,
   "metadata": {},
   "outputs": [
    {
     "data": {
      "text/plain": [
       "[Text(0.5, 1.0, 'Box Plot - 30 Cidades do Brasil'),\n",
       " Text(0.5, 0, ''),\n",
       " Text(0, 0.5, 'população (mil)')]"
      ]
     },
     "execution_count": 21,
     "metadata": {},
     "output_type": "execute_result"
    },
    {
     "data": {
      "image/png": "[encoded data removed]",
      "text/plain": [
       "<Figure size 360x576 with 1 Axes>"
      ]
     },
     "metadata": {
      "needs_background": "light"
     },
     "output_type": "display_data"
    }
   ],
   "source": [
    "fig,axes = plt.subplots(figsize=(5,8))\n",
    "df_cd_municipio['populacao'].plot(kind='box',ax=axes)\n",
    "#yticks = [70,80,100,180,240,600,1000]\n",
    "axes.set(title='Box Plot - 30 Cidades do Brasil',\n",
    "            xlabel='',\n",
    "            ylabel='população (mil)')"
   ]
  },
  {
   "cell_type": "markdown",
   "metadata": {},
   "source": [
    "### Problema 11\n",
    "\n",
    "<p>Construa o box plot para os dados do Exemplo 2.3, capítulo 2. O que você pode concluir a respeito da distribuição?</p>"
   ]
  },
  {
   "cell_type": "code",
   "execution_count": 22,
   "metadata": {},
   "outputs": [
    {
     "data": {
      "text/plain": [
       "[Text(0.5, 1.0, 'Box Plot - Salários dos 36 empregados da Seção de Orçamento'),\n",
       " Text(0.5, 0, ''),\n",
       " Text(0, 0.5, 'Qt de Salários Mínimos')]"
      ]
     },
     "execution_count": 22,
     "metadata": {},
     "output_type": "execute_result"
    },
    {
     "data": {
      "image/png": "[encoded data removed]",
      "text/plain": [
       "<Figure size 360x360 with 1 Axes>"
      ]
     },
     "metadata": {
      "needs_background": "light"
     },
     "output_type": "display_data"
    }
   ],
   "source": [
    "fig,axes = plt.subplots(figsize=(5,5))\n",
    "df_emprg_orc['salario'].plot(kind='box',ax=axes)\n",
    "axes.set(title='Box Plot - Salários dos 36 empregados da Seção de Orçamento',\n",
    "            xlabel='',\n",
    "            ylabel='Qt de Salários Mínimos')"
   ]
  },
  {
   "cell_type": "markdown",
   "metadata": {},
   "source": [
    "### Problema 12\n",
    "\n",
    "<p>Refaça a questão anterior com os dados do Problema 3 deste capítulo</p>"
   ]
  },
  {
   "cell_type": "code",
   "execution_count": 23,
   "metadata": {},
   "outputs": [
    {
     "data": {
      "text/plain": [
       "[Text(0.5, 1.0, 'Box Plot - Casas por Quarteirão'),\n",
       " Text(0.5, 0, ''),\n",
       " Text(0, 0.5, 'Qt Casas por Quarteirão')]"
      ]
     },
     "execution_count": 23,
     "metadata": {},
     "output_type": "execute_result"
    },
    {
     "data": {
      "image/png": "[encoded data removed]",
      "text/plain": [
       "<Figure size 360x360 with 1 Axes>"
      ]
     },
     "metadata": {
      "needs_background": "light"
     },
     "output_type": "display_data"
    }
   ],
   "source": [
    "fig,axes = plt.subplots(figsize=(5,5))\n",
    "df_casas_quart.plot(kind='box',ax=axes)\n",
    "axes.set(title='Box Plot - Casas por Quarteirão',\n",
    "            xlabel='',\n",
    "            ylabel='Qt Casas por Quarteirão')"
   ]
  },
  {
   "cell_type": "markdown",
   "metadata": {},
   "source": [
    "### Problema 13\n",
    "\n",
    "<p>Faça um box plot para o problema 10. Comente sobre a simetria, caudas e presença de valores atípicos</p>"
   ]
  },
  {
   "cell_type": "code",
   "execution_count": 24,
   "metadata": {},
   "outputs": [
    {
     "data": {
      "text/plain": [
       "[Text(0.5, 1.0, 'Box Plot - População por Uf Brasil'),\n",
       " Text(0.5, 0, ''),\n",
       " Text(0, 0.5, 'População por Uf')]"
      ]
     },
     "execution_count": 24,
     "metadata": {},
     "output_type": "execute_result"
    },
    {
     "data": {
      "image/png": "[encoded data removed]",
      "text/plain": [
       "<Figure size 360x360 with 1 Axes>"
      ]
     },
     "metadata": {
      "needs_background": "light"
     },
     "output_type": "display_data"
    }
   ],
   "source": [
    "fig,axes = plt.subplots(figsize=(5,5))\n",
    "df_cd_brasil['populacao'].plot(kind='box')\n",
    "axes.set(title='Box Plot - População por Uf Brasil',\n",
    "            xlabel='',\n",
    "            ylabel='População por Uf')"
   ]
  },
  {
   "cell_type": "code",
   "execution_count": 25,
   "metadata": {},
   "outputs": [
    {
     "data": {
      "text/plain": [
       "[Text(0.5, 1.0, 'p=1/3')]"
      ]
     },
     "execution_count": 25,
     "metadata": {},
     "output_type": "execute_result"
    },
    {
     "data": {
      "image/png": "[encoded data removed]",
      "text/plain": [
       "<Figure size 360x360 with 4 Axes>"
      ]
     },
     "metadata": {
      "needs_background": "light"
     },
     "output_type": "display_data"
    }
   ],
   "source": [
    "#exemplo 3.10 (transforamções)\n",
    "# df = df_cd_municipio\n",
    "df = maiores_cidades_15\n",
    "fig,axes = plt.subplots(nrows=2,ncols=2,figsize=(5,5))\n",
    "#p=0 (log)\n",
    "(np.log(df['populacao'])).plot(kind='hist',bins=7,ax=axes[0,0])\n",
    "axes[0,0].set(title='log')\n",
    "#p = 1/4\n",
    "(df['populacao']**0.25).plot(kind='hist',bins=7,ax=axes[0,1])\n",
    "axes[0,1].set(title='p=1/4')\n",
    "#p=1/2\n",
    "(df['populacao']**0.5).plot(kind='hist',bins=7,ax=axes[1,0])\n",
    "axes[1,0].set(title='p=1/2')\n",
    "#p=1/3\n",
    "(df['populacao']**0.333).plot(kind='hist',bins=7,ax=axes[1,1])\n",
    "axes[1,1].set(title='p=1/3')\n",
    "    # maiores_cidades_15['populacao'].plot(kind='hist',bins=7)"
   ]
  },
  {
   "cell_type": "code",
   "execution_count": 26,
   "metadata": {},
   "outputs": [
    {
     "data": {
      "text/plain": [
       "[Text(0.5, 1.0, 'p=1/3')]"
      ]
     },
     "execution_count": 26,
     "metadata": {},
     "output_type": "execute_result"
    },
    {
     "data": {
      "image/png": "[encoded data removed]",
      "text/plain": [
       "<Figure size 720x360 with 4 Axes>"
      ]
     },
     "metadata": {
      "needs_background": "light"
     },
     "output_type": "display_data"
    }
   ],
   "source": [
    "#exemplo 3.10 (transforamções)\n",
    "# df = df_cd_municipio\n",
    "df = maiores_cidades_15\n",
    "fig,axes = plt.subplots(nrows=1,ncols=4,figsize=(10,5))\n",
    "#p=0 (log)\n",
    "(np.log(df['populacao'])).plot(kind='box',ax=axes[0])\n",
    "axes[0].set(title='log')\n",
    "#p = 1/4\n",
    "(df['populacao']**0.25).plot(kind='box',ax=axes[1])\n",
    "axes[1].set(title='p=1/4')\n",
    "#p=1/2\n",
    "(df['populacao']**0.5).plot(kind='box',ax=axes[2])\n",
    "axes[2].set(title='p=1/2')\n",
    "#p=1/3\n",
    "(df['populacao']**0.333).plot(kind='box',ax=axes[3])\n",
    "axes[3].set(title='p=1/3')\n",
    "    # maiores_cidades_15['populacao'].plot(kind='hist',bins=7)"
   ]
  },
  {
   "cell_type": "code",
   "execution_count": 27,
   "metadata": {},
   "outputs": [
    {
     "name": "stdout",
     "output_type": "stream",
     "text": [
      "Medidas descritivas para CD-Notas\n"
     ]
    },
    {
     "data": {
      "text/plain": [
       "count    100.00000\n",
       "mean       5.92500\n",
       "std        1.81238\n",
       "min        1.50000\n",
       "25%        4.87500\n",
       "50%        6.00000\n",
       "75%        7.12500\n",
       "max       10.00000\n",
       "dtype: float64"
      ]
     },
     "metadata": {},
     "output_type": "display_data"
    },
    {
     "data": {
      "text/html": [
       "<div>\n",
       "<style scoped>\n",
       "    .dataframe tbody tr th:only-of-type {\n",
       "        vertical-align: middle;\n",
       "    }\n",
       "\n",
       "    .dataframe tbody tr th {\n",
       "        vertical-align: top;\n",
       "    }\n",
       "\n",
       "    .dataframe thead th {\n",
       "        text-align: right;\n",
       "    }\n",
       "</style>\n",
       "<table border=\"1\" class=\"dataframe\">\n",
       "  <thead>\n",
       "    <tr style=\"text-align: right;\">\n",
       "      <th></th>\n",
       "      <th>A</th>\n",
       "      <th>B</th>\n",
       "    </tr>\n",
       "  </thead>\n",
       "  <tbody>\n",
       "    <tr>\n",
       "      <th>90</th>\n",
       "      <td>-4.0</td>\n",
       "      <td>-10.0</td>\n",
       "    </tr>\n",
       "    <tr>\n",
       "      <th>65</th>\n",
       "      <td>-4.0</td>\n",
       "      <td>-10.0</td>\n",
       "    </tr>\n",
       "    <tr>\n",
       "      <th>95</th>\n",
       "      <td>-4.0</td>\n",
       "      <td>-10.0</td>\n",
       "    </tr>\n",
       "    <tr>\n",
       "      <th>11</th>\n",
       "      <td>-3.5</td>\n",
       "      <td>-9.5</td>\n",
       "    </tr>\n",
       "    <tr>\n",
       "      <th>29</th>\n",
       "      <td>-3.0</td>\n",
       "      <td>-9.0</td>\n",
       "    </tr>\n",
       "    <tr>\n",
       "      <th>...</th>\n",
       "      <td>...</td>\n",
       "      <td>...</td>\n",
       "    </tr>\n",
       "    <tr>\n",
       "      <th>51</th>\n",
       "      <td>3.0</td>\n",
       "      <td>-3.0</td>\n",
       "    </tr>\n",
       "    <tr>\n",
       "      <th>85</th>\n",
       "      <td>3.5</td>\n",
       "      <td>-2.5</td>\n",
       "    </tr>\n",
       "    <tr>\n",
       "      <th>81</th>\n",
       "      <td>3.5</td>\n",
       "      <td>-2.5</td>\n",
       "    </tr>\n",
       "    <tr>\n",
       "      <th>9</th>\n",
       "      <td>3.5</td>\n",
       "      <td>-2.5</td>\n",
       "    </tr>\n",
       "    <tr>\n",
       "      <th>45</th>\n",
       "      <td>4.5</td>\n",
       "      <td>-1.5</td>\n",
       "    </tr>\n",
       "  </tbody>\n",
       "</table>\n",
       "<p>100 rows × 2 columns</p>\n",
       "</div>"
      ],
      "text/plain": [
       "      A     B\n",
       "90 -4.0 -10.0\n",
       "65 -4.0 -10.0\n",
       "95 -4.0 -10.0\n",
       "11 -3.5  -9.5\n",
       "29 -3.0  -9.0\n",
       "..  ...   ...\n",
       "51  3.0  -3.0\n",
       "85  3.5  -2.5\n",
       "81  3.5  -2.5\n",
       "9   3.5  -2.5\n",
       "45  4.5  -1.5\n",
       "\n",
       "[100 rows x 2 columns]"
      ]
     },
     "metadata": {},
     "output_type": "display_data"
    },
    {
     "name": "stdout",
     "output_type": "stream",
     "text": [
      "Distância Interquartil 2.25\n"
     ]
    },
    {
     "data": {
      "text/plain": [
       "<AxesSubplot:>"
      ]
     },
     "execution_count": 27,
     "metadata": {},
     "output_type": "execute_result"
    },
    {
     "data": {
      "image/png": "[encoded data removed]",
      "text/plain": [
       "<Figure size 576x432 with 3 Axes>"
      ]
     },
     "metadata": {
      "needs_background": "light"
     },
     "output_type": "display_data"
    }
   ],
   "source": [
    "#exemplo 2.10 (continuação)\n",
    "df_cd_notas = pd.read_excel('estatistica.basica.bussab.9ed/CD-Notas.xls',                            \n",
    "                            squeeze=True,\n",
    "                           names = range(10),\n",
    "                           skiprows=[0,1,2])\n",
    "\n",
    "df_cd_notas = pd.concat([df_cd_notas[0],\n",
    "           df_cd_notas[1],\n",
    "           df_cd_notas[2],\n",
    "           df_cd_notas[3],\n",
    "           df_cd_notas[4],\n",
    "           df_cd_notas[5],\n",
    "           df_cd_notas[6],\n",
    "           df_cd_notas[7],\n",
    "           df_cd_notas[8],\n",
    "           df_cd_notas[9]])\n",
    "df_cd_notas.reset_index(drop=True,inplace=True)\n",
    "\n",
    "fig,axes = plt.subplots(nrows=1,ncols=3)\n",
    "\n",
    "df_cd_notas.plot(kind='hist',\n",
    "                 bins=9,\n",
    "                 xticks=range(12),\n",
    "                 yticks=range(26),\n",
    "                 grid=True,\n",
    "                 figsize=(8,6),\n",
    "                 ax=axes[0])\n",
    "print('Medidas descritivas para CD-Notas')\n",
    "df_describe = df_cd_notas.describe()\n",
    "display(df_describe)\n",
    "mediana = df_describe['50%']\n",
    "df_scatter = pd.DataFrame(mediana - df_cd_notas,columns=['A'])\n",
    "df_scatter.sort_values('A',inplace=True)\n",
    "df_scatter['B'] = pd.DataFrame(df_scatter['A'] - mediana)\n",
    "display(df_scatter)\n",
    "# df_scatter.plot(kind='scatter',x=df_scatter['A'],y=df_scatter['B'],ax=axes[2])\n",
    "df_scatter.plot(kind='scatter',x='B',y='A',ax=axes[2])\n",
    "print(f'Distância Interquartil {df_describe[\"75%\"] - df_describe[\"25%\"]}')\n",
    "df_cd_notas.plot(kind='box',ax=axes[1])"
   ]
  },
  {
   "cell_type": "code",
   "execution_count": 40,
   "metadata": {},
   "outputs": [
    {
     "data": {
      "text/plain": [
       "<AxesSubplot:xlabel='0', ylabel='1'>"
      ]
     },
     "execution_count": 40,
     "metadata": {},
     "output_type": "execute_result"
    },
    {
     "data": {
      "image/png": "[encoded data removed]",
      "text/plain": [
       "<Figure size 360x360 with 1 Axes>"
      ]
     },
     "metadata": {
      "needs_background": "light"
     },
     "output_type": "display_data"
    }
   ],
   "source": [
    "#gráficos de dispersão\n",
    "import math\n",
    "fig,axes = plt.subplots(figsize=(5,5))\n",
    "df = df_cd_notas.sort_values()\n",
    "df.sort_values(inplace=True)      #Ordena as notas\n",
    "df = df.reset_index(drop=True)    #reseta os indices\n",
    "tamanho = df.count()\n",
    "mediana = df.median()\n",
    "\n",
    "\n",
    "#df.drop(df.index[-1],inplace=True) #testa para tamanho impar\n",
    "\n",
    "\n",
    "if tamanho % 2:                     #se a quantidade de items for par\n",
    "    display('impar')\n",
    "    df.iloc[0:math.ceil(tamanho%2)]\n",
    "    #como o tamanho é impar, o slice vai até ceil(metade do tamanho), próximo inteiro após a metade\n",
    "    df_a = (mediana - df.iloc[0:math.ceil(tamanho/2)]).reset_index(drop=True)  #gera uma serie com a primeira metade\n",
    "    #como o tamanho é impar, o slice começa de floor(metade do tamanho), primeiro inteiro antes da metade\n",
    "    df_b = (df.iloc[math.floor(tamanho/2):].sort_values(ascending=False) - mediana).reset_index(drop=True)\n",
    "else:\n",
    "    df_a = (mediana - df.iloc[0:int(tamanho/2)]).reset_index(drop=True)  #gera uma serie com a primeira metade\n",
    "    #gera uma Serie com a segunda metade e inverte a ordem (para que o ultimo corresponda ao primeiro da Series anterior)\n",
    "    df_b = (df.iloc[int(tamanho/2):].sort_values(ascending=False) - mediana).reset_index(drop=True)\n",
    "    #gera um data frame para gerar um gráfico de linha(linha do grafico tipo y=x)\n",
    "    df_line = pd.DataFrame(np.arange(int(df_b.max() + 2)))\n",
    "df_scatter = pd.concat([df_a,df_b],axis=1) #concatena as duas Series\n",
    "df_scatter.plot(kind='scatter',x=0,y=1,ax=axes)  #gera o grafico de dispersão\n",
    "\n",
    "df_line.plot(kind='line',ax=axes)  #gera o gráfico do tipo y=x na mesma figura do gráfico de dispersão\n",
    "    "
   ]
  },
  {
   "cell_type": "code",
   "execution_count": null,
   "metadata": {},
   "outputs": [],
   "source": []
  }
 ],
 "metadata": {
  "kernelspec": {
   "display_name": "Python 3",
   "language": "python",
   "name": "python3"
  },
  "language_info": {
   "codemirror_mode": {
    "name": "ipython",
    "version": 3
   },
   "file_extension": ".py",
   "mimetype": "text/x-python",
   "name": "python",
   "nbconvert_exporter": "python",
   "pygments_lexer": "ipython3",
   "version": "3.8.5"
  }
 },
 "nbformat": 4,
 "nbformat_minor": 2
}
