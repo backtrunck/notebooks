{
 "cells": [
  {
   "cell_type": "code",
   "execution_count": 2,
   "metadata": {},
   "outputs": [],
   "source": [
    "import pandas as pd\n",
    "import numpy as np\n",
    "import matplotlib.pyplot as plt\n",
    "from stemgraphic import stem_graphic\n",
    "from pandas.api.types import CategoricalDtype"
   ]
  },
  {
   "cell_type": "code",
   "execution_count": null,
   "metadata": {},
   "outputs": [],
   "source": []
  },
  {
   "cell_type": "markdown",
   "metadata": {},
   "source": [
    "### Problema 1\n",
    "<p> Usando os dados da Tabela 2.1 do capítulo 1:\n",
    " <ol>\n",
    "<li> Construa a distribuição de frequência conjunta para as variáveis grau de instrução e região de procedência\n",
    "<li> Qual a porcentagem de funcionários que têm o ensino médio\n",
    "<li> Qual a percentagem daqueles que têm o ensino médio e são do interior?\n",
    "<li> Dentre os funcionários do interior, quantos por cento têm o ensino médio?\n",
    "</ol>"
   ]
  },
  {
   "cell_type": "code",
   "execution_count": 3,
   "metadata": {},
   "outputs": [],
   "source": [
    "grau_instrucao = ['ensino fundamental', 'ensino médio', 'superior']\n",
    "grau_instrucao_tipo = CategoricalDtype(categories=grau_instrucao, ordered=True) #criando variável categórica\n",
    "\n",
    "df_emprg_orc = pd.read_excel('estatistica.basica.bussab.9ed/Dados_EB.xls',\n",
    "                      header=1,\n",
    "                      index_col=0,\n",
    "                      names=['num','estado_civil','instrucao','filhos','salario','anos','meses','procedencia'],\n",
    "                      dtype={'instrucao':grau_instrucao_tipo})\n",
    "df_emprg_orc.index.name = 'Num'\n",
    "df_emprg_orc['filhos'].fillna(0,inplace=True)\n",
    "df_emprg_orc['filhos'] = df_emprg_orc['filhos'].astype('int64')"
   ]
  },
  {
   "cell_type": "code",
   "execution_count": 20,
   "metadata": {},
   "outputs": [
    {
     "data": {
      "text/plain": [
       "'Distribuição de Frequência'"
      ]
     },
     "metadata": {},
     "output_type": "display_data"
    },
    {
     "data": {
      "text/html": [
       "<div>\n",
       "<style scoped>\n",
       "    .dataframe tbody tr th:only-of-type {\n",
       "        vertical-align: middle;\n",
       "    }\n",
       "\n",
       "    .dataframe tbody tr th {\n",
       "        vertical-align: top;\n",
       "    }\n",
       "\n",
       "    .dataframe thead th {\n",
       "        text-align: right;\n",
       "    }\n",
       "</style>\n",
       "<table border=\"1\" class=\"dataframe\">\n",
       "  <thead>\n",
       "    <tr style=\"text-align: right;\">\n",
       "      <th>instrucao</th>\n",
       "      <th>ensino fundamental</th>\n",
       "      <th>ensino médio</th>\n",
       "      <th>superior</th>\n",
       "      <th>Total</th>\n",
       "    </tr>\n",
       "    <tr>\n",
       "      <th>procedencia</th>\n",
       "      <th></th>\n",
       "      <th></th>\n",
       "      <th></th>\n",
       "      <th></th>\n",
       "    </tr>\n",
       "  </thead>\n",
       "  <tbody>\n",
       "    <tr>\n",
       "      <th>capital</th>\n",
       "      <td>4</td>\n",
       "      <td>5</td>\n",
       "      <td>2</td>\n",
       "      <td>11</td>\n",
       "    </tr>\n",
       "    <tr>\n",
       "      <th>interior</th>\n",
       "      <td>3</td>\n",
       "      <td>7</td>\n",
       "      <td>2</td>\n",
       "      <td>12</td>\n",
       "    </tr>\n",
       "    <tr>\n",
       "      <th>outra</th>\n",
       "      <td>5</td>\n",
       "      <td>6</td>\n",
       "      <td>2</td>\n",
       "      <td>13</td>\n",
       "    </tr>\n",
       "    <tr>\n",
       "      <th>Total</th>\n",
       "      <td>12</td>\n",
       "      <td>18</td>\n",
       "      <td>6</td>\n",
       "      <td>36</td>\n",
       "    </tr>\n",
       "  </tbody>\n",
       "</table>\n",
       "</div>"
      ],
      "text/plain": [
       "instrucao    ensino fundamental  ensino médio  superior  Total\n",
       "procedencia                                                   \n",
       "capital                       4             5         2     11\n",
       "interior                      3             7         2     12\n",
       "outra                         5             6         2     13\n",
       "Total                        12            18         6     36"
      ]
     },
     "metadata": {},
     "output_type": "display_data"
    },
    {
     "data": {
      "text/plain": [
       "'Distribuição de Frequência em %'"
      ]
     },
     "metadata": {},
     "output_type": "display_data"
    },
    {
     "data": {
      "text/html": [
       "<div>\n",
       "<style scoped>\n",
       "    .dataframe tbody tr th:only-of-type {\n",
       "        vertical-align: middle;\n",
       "    }\n",
       "\n",
       "    .dataframe tbody tr th {\n",
       "        vertical-align: top;\n",
       "    }\n",
       "\n",
       "    .dataframe thead th {\n",
       "        text-align: right;\n",
       "    }\n",
       "</style>\n",
       "<table border=\"1\" class=\"dataframe\">\n",
       "  <thead>\n",
       "    <tr style=\"text-align: right;\">\n",
       "      <th>instrucao</th>\n",
       "      <th>ensino fundamental</th>\n",
       "      <th>ensino médio</th>\n",
       "      <th>superior</th>\n",
       "      <th>Total</th>\n",
       "    </tr>\n",
       "    <tr>\n",
       "      <th>procedencia</th>\n",
       "      <th></th>\n",
       "      <th></th>\n",
       "      <th></th>\n",
       "      <th></th>\n",
       "    </tr>\n",
       "  </thead>\n",
       "  <tbody>\n",
       "    <tr>\n",
       "      <th>capital</th>\n",
       "      <td>11.11</td>\n",
       "      <td>13.89</td>\n",
       "      <td>5.56</td>\n",
       "      <td>30.56</td>\n",
       "    </tr>\n",
       "    <tr>\n",
       "      <th>interior</th>\n",
       "      <td>8.33</td>\n",
       "      <td>19.44</td>\n",
       "      <td>5.56</td>\n",
       "      <td>33.33</td>\n",
       "    </tr>\n",
       "    <tr>\n",
       "      <th>outra</th>\n",
       "      <td>13.89</td>\n",
       "      <td>16.67</td>\n",
       "      <td>5.56</td>\n",
       "      <td>36.11</td>\n",
       "    </tr>\n",
       "    <tr>\n",
       "      <th>Total</th>\n",
       "      <td>33.33</td>\n",
       "      <td>50.00</td>\n",
       "      <td>16.67</td>\n",
       "      <td>100.00</td>\n",
       "    </tr>\n",
       "  </tbody>\n",
       "</table>\n",
       "</div>"
      ],
      "text/plain": [
       "instrucao    ensino fundamental  ensino médio  superior   Total\n",
       "procedencia                                                    \n",
       "capital                   11.11         13.89      5.56   30.56\n",
       "interior                   8.33         19.44      5.56   33.33\n",
       "outra                     13.89         16.67      5.56   36.11\n",
       "Total                     33.33         50.00     16.67  100.00"
      ]
     },
     "metadata": {},
     "output_type": "display_data"
    },
    {
     "data": {
      "text/plain": [
       "'Porcentagem de funcionários que têm o ensino médio'"
      ]
     },
     "metadata": {},
     "output_type": "display_data"
    },
    {
     "data": {
      "text/plain": [
       "50.0"
      ]
     },
     "metadata": {},
     "output_type": "display_data"
    },
    {
     "data": {
      "text/plain": [
       "'Dentre os funcionários do interior, quantos por cento têm o ensino médio?'"
      ]
     },
     "metadata": {},
     "output_type": "display_data"
    },
    {
     "data": {
      "text/plain": [
       "19.44"
      ]
     },
     "metadata": {},
     "output_type": "display_data"
    }
   ],
   "source": [
    "df = pd.crosstab( df_emprg_orc.procedencia,\n",
    "                            df_emprg_orc.instrucao,\n",
    "                            margins=True,\n",
    "                            margins_name = \"Total\")\n",
    "display('Distribuição de Frequência')\n",
    "display(df)\n",
    "display('Distribuição de Frequência em %')\n",
    "df_porc = pd.crosstab(df_emprg_orc.procedencia,\n",
    "                             df_emprg_orc.instrucao,\n",
    "                             margins=True,\n",
    "                             margins_name = \"Total\",\n",
    "                             normalize=True) * 100\n",
    "display(df_porc.round(2))\n",
    "display('Porcentagem de funcionários que têm o ensino médio')\n",
    "display(df_porc.loc['Total','ensino médio'])\n",
    "display('Dentre os funcionários do interior, quantos por cento têm o ensino médio?')\n",
    "display(df_porc.loc['interior','ensino médio'].round(2))\n"
   ]
  },
  {
   "cell_type": "markdown",
   "metadata": {},
   "source": [
    "<p>2. No problema anterior,sorteando um funcionário ao acaso entre os 36:</p>\n",
    "<ol>\n",
    "<li> Qual será provalvemente seu grau de instrução?\n",
    "<li> E sua região de procedência?\n",
    "<li> Qual a probabilidade do sorteado ter nível superior?\n",
    "<li> Sabendo-se que o sorteado é do interior, qual a probabilidade de ele possuir nível superior?\n",
    "<li> Sabendo-se que o escolhido é da capital, qual a probabilidade de ele possuir nível superior?    \n",
    "</ol>    \n"
   ]
  },
  {
   "cell_type": "code",
   "execution_count": 28,
   "metadata": {},
   "outputs": [
    {
     "data": {
      "text/plain": [
       "'O grau de instrução será provavelmente daquele que tiver maior frequência, ou seja ensino médio'"
      ]
     },
     "metadata": {},
     "output_type": "display_data"
    },
    {
     "data": {
      "text/plain": [
       "'a região de procedência será provavelmente daquela que tiver maior frequência, ou seja outra'"
      ]
     },
     "metadata": {},
     "output_type": "display_data"
    },
    {
     "data": {
      "text/plain": [
       "'a probabilidade do sorteado ter nível superior é 0.167'"
      ]
     },
     "metadata": {},
     "output_type": "display_data"
    },
    {
     "data": {
      "text/plain": [
       "'a probabilidade do sorteado ser do interior e ter nível superior é 0.167'"
      ]
     },
     "metadata": {},
     "output_type": "display_data"
    },
    {
     "data": {
      "text/plain": [
       "'a probabilidade do sorteado ser da capital e ter nível superior é 0.182'"
      ]
     },
     "metadata": {},
     "output_type": "display_data"
    }
   ],
   "source": [
    "display('O grau de instrução será provavelmente daquele que tiver maior frequência, ou seja ensino médio')\n",
    "display('a região de procedência será provavelmente daquela que tiver maior frequência, ou seja outra')\n",
    "display(f'a probabilidade do sorteado ter nível superior é {round(df.loc[\"Total\",\"superior\"]/df.loc[\"Total\",\"Total\"],3)}')\n",
    "display(f'a probabilidade do sorteado ser do interior e ter nível superior é {round(df.loc[\"interior\",\"superior\"]/df.loc[\"interior\",\"Total\"],3)}')\n",
    "display(f'a probabilidade do sorteado ser da capital e ter nível superior é {round(df.loc[\"capital\",\"superior\"]/df.loc[\"capital\",\"Total\"],3)}')"
   ]
  },
  {
   "cell_type": "markdown",
   "metadata": {},
   "source": [
    "<p>3. Numa pesquisa sobre rotatividade de mão de obra, para uma amostra de 40 pessoas foram observadas duas \n",
    "      variáveis: número de empregos nos últimos dois anos (X) e salário mais recente, em número de salários \n",
    "        mínimos (Y). Os resultados foram:</p>\n",
    "<ol>\n",
    "<li> Usando a mediana, classifique os indivíduos em dois níveis, alto e baixo, para cada uma das variáveis, \n",
    "    e construa a distribuição de frequências conjunta das duas classificações\n",
    "<li> Qual a porcentagem das pessoas com baixa rotatividade e ganhando pouco?\n",
    "<li> Qual a porcentagem das pessoas que ganham pouco?\n",
    "<li> Entre as pessoas com baixa rotatividade, qual a porcentagem dos que ganham pouco \n",
    "<li> A informação adicional dada em (d) mudou muito a porcentagem observada em (c)? o que isso significa?\n",
    "</ol>    \n"
   ]
  },
  {
   "cell_type": "code",
   "execution_count": 58,
   "metadata": {},
   "outputs": [
    {
     "data": {
      "text/plain": [
       "'2.0 2.5'"
      ]
     },
     "metadata": {},
     "output_type": "display_data"
    },
    {
     "data": {
      "text/plain": [
       "'Distribuição conjunta de frequências'"
      ]
     },
     "metadata": {},
     "output_type": "display_data"
    },
    {
     "data": {
      "text/html": [
       "<div>\n",
       "<style scoped>\n",
       "    .dataframe tbody tr th:only-of-type {\n",
       "        vertical-align: middle;\n",
       "    }\n",
       "\n",
       "    .dataframe tbody tr th {\n",
       "        vertical-align: top;\n",
       "    }\n",
       "\n",
       "    .dataframe thead th {\n",
       "        text-align: right;\n",
       "    }\n",
       "</style>\n",
       "<table border=\"1\" class=\"dataframe\">\n",
       "  <thead>\n",
       "    <tr style=\"text-align: right;\">\n",
       "      <th>class_salario</th>\n",
       "      <th>salario_alto</th>\n",
       "      <th>salario_baixo</th>\n",
       "      <th>Total</th>\n",
       "    </tr>\n",
       "    <tr>\n",
       "      <th>class_emprego</th>\n",
       "      <th></th>\n",
       "      <th></th>\n",
       "      <th></th>\n",
       "    </tr>\n",
       "  </thead>\n",
       "  <tbody>\n",
       "    <tr>\n",
       "      <th>rotatividade_alta</th>\n",
       "      <td>3</td>\n",
       "      <td>14</td>\n",
       "      <td>17</td>\n",
       "    </tr>\n",
       "    <tr>\n",
       "      <th>rotatividade_baixa</th>\n",
       "      <td>17</td>\n",
       "      <td>6</td>\n",
       "      <td>23</td>\n",
       "    </tr>\n",
       "    <tr>\n",
       "      <th>Total</th>\n",
       "      <td>20</td>\n",
       "      <td>20</td>\n",
       "      <td>40</td>\n",
       "    </tr>\n",
       "  </tbody>\n",
       "</table>\n",
       "</div>"
      ],
      "text/plain": [
       "class_salario       salario_alto  salario_baixo  Total\n",
       "class_emprego                                         \n",
       "rotatividade_alta              3             14     17\n",
       "rotatividade_baixa            17              6     23\n",
       "Total                         20             20     40"
      ]
     },
     "metadata": {},
     "output_type": "display_data"
    },
    {
     "data": {
      "text/plain": [
       "'Percentual das pessoas com baixa rotatividade que ganham pouco 0.15'"
      ]
     },
     "metadata": {},
     "output_type": "display_data"
    },
    {
     "data": {
      "text/plain": [
       "'Percentual das pessoas que ganham pouco 0.5'"
      ]
     },
     "metadata": {},
     "output_type": "display_data"
    },
    {
     "data": {
      "text/plain": [
       "'Percentual das pessoas que ganham pouco dentro da com baixa rotatividade 0.26'"
      ]
     },
     "metadata": {},
     "output_type": "display_data"
    },
    {
     "data": {
      "text/plain": [
       "'Mudou, significa que a informação sobre rotatividade influencia no valor do salário'"
      ]
     },
     "metadata": {},
     "output_type": "display_data"
    }
   ],
   "source": [
    "dados = {'individuo': [1,2,3,4,5,6,7,8,9,10,\n",
    "                       11,12,13,14,15,16,17,18,19,20,\n",
    "                       21,22,23,24,25,26,27,28,29,30,\n",
    "                       31,32,33,34,35,36,37,38,39,40],\n",
    "        'X':[1,3,2,3,2,2,3,1,2,3,2,3,1,2,3,4,1,2,2,2,\n",
    "             2,3,4,1,2,3,4,1,4,3,2,1,4,2,4,3,1,3,2,2],\n",
    "        'Y':[6,2,4,1,4,1,3,5,2,2,5,2,6,6,2,2,5,5,1,1,\n",
    "            4,2,1,5,4,2,1,5,4,3,2,1,1,6,2,1,4,2,3,5]}\n",
    "df_rotatividade = pd.DataFrame(data=dados)\n",
    "# display(df_rotatividade)\n",
    "mediana_empregos = df_rotatividade.X.median()\n",
    "mediana_salarios = df_rotatividade.Y.median()\n",
    "display(f'{mediana_empregos} {mediana_salarios}')\n",
    "\n",
    "df_rotatividade['class_emprego'] = df_rotatividade.X.apply(lambda x:'rotatividade_baixa' if x <= mediana_empregos else 'rotatividade_alta')\n",
    "df_rotatividade['class_salario'] = df_rotatividade.Y.apply(lambda x:'salario_baixo' if x <= mediana_salarios else 'salario_alto')\n",
    "df = pd.crosstab( df_rotatividade.class_emprego,\n",
    "                  df_rotatividade.class_salario,\n",
    "                  margins=True,\n",
    "                  margins_name = \"Total\")\n",
    "display('Distribuição conjunta de frequências')\n",
    "display(df)\n",
    "display(f'Percentual das pessoas com baixa rotatividade que ganham pouco {round(df.loc[\"rotatividade_baixa\",\"salario_baixo\"]/df.loc[\"Total\",\"Total\"],2)}')\n",
    "display(f'Percentual das pessoas que ganham pouco {round(df.loc[\"Total\",\"salario_baixo\"]/df.loc[\"Total\",\"Total\"],2)}')\n",
    "display(f'Percentual das pessoas que ganham pouco dentro da com baixa rotatividade {round(df.loc[\"rotatividade_baixa\",\"salario_baixo\"]/df.loc[\"rotatividade_baixa\",\"Total\"],2)}')\n",
    "display(f'Mudou, significa que a informação sobre rotatividade influencia no valor do salário')"
   ]
  }
 ],
 "metadata": {
  "kernelspec": {
   "display_name": "Python 3",
   "language": "python",
   "name": "python3"
  },
  "language_info": {
   "codemirror_mode": {
    "name": "ipython",
    "version": 3
   },
   "file_extension": ".py",
   "mimetype": "text/x-python",
   "name": "python",
   "nbconvert_exporter": "python",
   "pygments_lexer": "ipython3",
   "version": "3.8.5"
  }
 },
 "nbformat": 4,
 "nbformat_minor": 4
}
