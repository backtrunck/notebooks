{
 "cells": [
  {
   "cell_type": "markdown",
   "metadata": {},
   "source": [
    "## Funções"
   ]
  },
  {
   "cell_type": "markdown",
   "metadata": {},
   "source": [
    "<p> Funções são blocos de códigos planejados para serem executados em várias pontos de seu programa.</p>"
   ]
  },
  {
   "cell_type": "code",
   "execution_count": 2,
   "metadata": {},
   "outputs": [
    {
     "name": "stdout",
     "output_type": "stream",
     "text": [
      "Oi\n"
     ]
    }
   ],
   "source": [
    "def saudar_usuario():\n",
    "    \"\"\" Faz uma saudação ao usuário \"\"\"\n",
    "    print('Oi')\n",
    "    \n",
    "saudar_usuario()"
   ]
  },
  {
   "cell_type": "markdown",
   "metadata": {},
   "source": [
    "## Passando Informações para a função"
   ]
  },
  {
   "cell_type": "markdown",
   "metadata": {},
   "source": [
    "<p>Com poucas alterações você pode não somente saudar o usuário mas saudá-lo pelo nome</p>"
   ]
  },
  {
   "cell_type": "code",
   "execution_count": 7,
   "metadata": {},
   "outputs": [
    {
     "name": "stdout",
     "output_type": "stream",
     "text": [
      "Oi, José\n"
     ]
    }
   ],
   "source": [
    "def saudar_usuario_pelo_nome(nome):\n",
    "    \"\"\" Faz uma saudação ao usuário usando o nome do mesmo \"\"\"\n",
    "    print(f'Oi, {nome}')\n",
    "\n",
    "# multiplas chamadas\n",
    "saudar_usuario_pelo_nome('José')\n",
    "saudar_usuario_pelo_nome('Dilma')\n",
    "saudar_usuario_pelo_nome('Jerônimo')\n",
    "saudar_usuario_pelo_nome('Antonio')"
   ]
  },
  {
   "cell_type": "markdown",
   "metadata": {},
   "source": [
    "## O que são argumentos e parâmetros de uma função\n",
    "<p> Parâmtros são valores que precisam ser passados para a função, já argumentos são os valores que são passados à função. Em saudar_usuario_pelo_nome() nome é o parâmetro e 'José' é o argumento</p>"
   ]
  },
  {
   "cell_type": "markdown",
   "metadata": {},
   "source": [
    "## Exercicio\n",
    "<p> Crie uma função que espere um parâmetro, um número, por exemplo e caso este número seja par, mostre a mensagem \"Número par informado\" e caso seja ímpar informar \"Número ímpar informado\"</p>"
   ]
  },
  {
   "cell_type": "markdown",
   "metadata": {},
   "source": [
    "## Modos de correspondência dos argumentos\n",
    "<ol>\n",
    "<li> Posicionais: da esquerda para a direita\n",
    "<li> Palavras chaves: correspondência pelo nome do parâmetro    \n",
    "<li> Varargs: captura argumentos posicionais ou de palavra chaves\n",
    "<li> Padrões: especifica valores para argumentos que não são passados\n",
    "</ol>"
   ]
  },
  {
   "cell_type": "markdown",
   "metadata": {},
   "source": [
    "## Posicionais\n",
    "<p>A ordem é importante</p>"
   ]
  },
  {
   "cell_type": "code",
   "execution_count": 13,
   "metadata": {},
   "outputs": [
    {
     "name": "stdout",
     "output_type": "stream",
     "text": [
      "Oi, José, Maria e Carmem\n"
     ]
    }
   ],
   "source": [
    "def saudar_usuario_pelos_nomes(nome_1, nome_2, nome_3):\n",
    "    \"\"\" Faz uma saudação aos usuários usando os nomes dos mesmos \"\"\"\n",
    "    print(f'Oi, {nome_1}, {nome_2} e {nome_3}')\n",
    "    \n",
    "saudar_usuario_pelos_nomes('José', 'Maria', 'Carmem')"
   ]
  },
  {
   "cell_type": "markdown",
   "metadata": {},
   "source": [
    "## Palavras-chaves\n",
    "<p>A ordem não é importante</p>"
   ]
  },
  {
   "cell_type": "code",
   "execution_count": 14,
   "metadata": {},
   "outputs": [
    {
     "name": "stdout",
     "output_type": "stream",
     "text": [
      "Oi, Carmem, José e Maria\n"
     ]
    }
   ],
   "source": [
    "saudar_usuario_pelos_nomes(nome_2='José', nome_3='Maria', nome_1='Carmem')"
   ]
  },
  {
   "cell_type": "markdown",
   "metadata": {},
   "source": [
    "## Varargs\n",
    "<p>Usa-se listas, tuplas (posicionais) ou dicionarios (palavras-chaves) para passagem de parametros</p>"
   ]
  },
  {
   "cell_type": "code",
   "execution_count": 23,
   "metadata": {},
   "outputs": [
    {
     "name": "stdout",
     "output_type": "stream",
     "text": [
      "Oi, Pedro, Paulo e Arlindo\n",
      "Oi, Simone, Moema e Jandira\n",
      "Oi, Orlando, Roberto e Geraldo\n"
     ]
    }
   ],
   "source": [
    "argumentos = ['Pedro', 'Paulo', 'Arlindo']\n",
    "saudar_usuario_pelos_nomes(*argumentos)\n",
    "\n",
    "argumentos = ('Simone', 'Moema', 'Jandira')\n",
    "saudar_usuario_pelos_nomes(*argumentos)\n",
    "\n",
    "argumentos = {'nome_2': 'Roberto',\n",
    "              'nome_1': 'Orlando',\n",
    "              'nome_3': 'Geraldo'}\n",
    "saudar_usuario_pelos_nomes(**argumentos)"
   ]
  },
  {
   "cell_type": "markdown",
   "metadata": {},
   "source": [
    "## Padrão\n",
    "<p>Caso o valor do parâmetro não seja passado é usado o valor padrão</p>"
   ]
  },
  {
   "cell_type": "code",
   "execution_count": 16,
   "metadata": {},
   "outputs": [
    {
     "name": "stdout",
     "output_type": "stream",
     "text": [
      "Oi, Marcos, Marcelo e Lourdes\n",
      "Oi, Marcos, Marcelo e Márcio\n"
     ]
    }
   ],
   "source": [
    "def saudar_usuario_pelos_nomes(nome_1, nome_2, nome_3='Lourdes'):\n",
    "    \"\"\" Faz uma saudação aos usuários usando os nomes dos mesmos \"\"\"\n",
    "    print(f'Oi, {nome_1}, {nome_2} e {nome_3}')\n",
    "    \n",
    "saudar_usuario_pelos_nomes('Marcos', 'Marcelo') # nome_3 será o padrão 'Lourdes'\n",
    "saudar_usuario_pelos_nomes('Marcos', 'Marcelo', 'Márcio') #nome_3 será 'Márcio'"
   ]
  },
  {
   "cell_type": "markdown",
   "metadata": {},
   "source": [
    "## Chamadas equivalentes"
   ]
  },
  {
   "cell_type": "code",
   "execution_count": 24,
   "metadata": {},
   "outputs": [
    {
     "name": "stdout",
     "output_type": "stream",
     "text": [
      "Oi, Marcos, Marcelo e Lourdes\n",
      "Oi, Marcos, Marcelo e Lourdes\n",
      "Oi, Marcos, Marcelo e Lourdes\n"
     ]
    }
   ],
   "source": [
    "saudar_usuario_pelos_nomes('Marcos', 'Marcelo') \n",
    "saudar_usuario_pelos_nomes('Marcos', 'Marcelo', nome_3='Lourdes') \n",
    "saudar_usuario_pelos_nomes(nome_2='Marcelo',nome_1='Marcos') "
   ]
  },
  {
   "cell_type": "markdown",
   "metadata": {},
   "source": [
    "## Argumentos ausentes"
   ]
  },
  {
   "cell_type": "code",
   "execution_count": 26,
   "metadata": {},
   "outputs": [
    {
     "ename": "TypeError",
     "evalue": "saudar_usuario_pelos_nomes() missing 1 required positional argument: 'nome_2'",
     "output_type": "error",
     "traceback": [
      "\u001b[0;31m---------------------------------------------------------------------------\u001b[0m",
      "\u001b[0;31mTypeError\u001b[0m                                 Traceback (most recent call last)",
      "Input \u001b[0;32mIn [26]\u001b[0m, in \u001b[0;36m<cell line: 1>\u001b[0;34m()\u001b[0m\n\u001b[0;32m----> 1\u001b[0m \u001b[43msaudar_usuario_pelos_nomes\u001b[49m\u001b[43m(\u001b[49m\u001b[38;5;124;43m'\u001b[39;49m\u001b[38;5;124;43mMarcos\u001b[39;49m\u001b[38;5;124;43m'\u001b[39;49m\u001b[43m)\u001b[49m\n",
      "\u001b[0;31mTypeError\u001b[0m: saudar_usuario_pelos_nomes() missing 1 required positional argument: 'nome_2'"
     ]
    }
   ],
   "source": [
    "saudar_usuario_pelos_nomes('Marcos') # Ao chamar a função com algum argumento ausente, gera erro."
   ]
  },
  {
   "cell_type": "markdown",
   "metadata": {},
   "source": [
    "## Retornando valores\n",
    "<p> Nem sem uma função tem que mostra sua saída na tela, na maioria das vezes tem que processar dados e retornar um valor ou um conjunto de valores</p>"
   ]
  },
  {
   "cell_type": "code",
   "execution_count": 30,
   "metadata": {},
   "outputs": [
    {
     "name": "stdout",
     "output_type": "stream",
     "text": [
      "Caetano Veloso\n"
     ]
    }
   ],
   "source": [
    "def formatar_nome(primeiro_nome, ultimo_nome):\n",
    "    \"\"\" Retorna o nome completo \"\"\"\n",
    "    nome_completo=f'{primeiro_nome} {ultimo_nome}'\n",
    "    \n",
    "    return nome_completo.title()\n",
    "\n",
    "cantor = formatar_nome('caetano', 'veloso')\n",
    "\n",
    "print(cantor)\n"
   ]
  },
  {
   "cell_type": "markdown",
   "metadata": {},
   "source": [
    "## Fazendo um argumento opcional"
   ]
  },
  {
   "cell_type": "code",
   "execution_count": 34,
   "metadata": {},
   "outputs": [
    {
     "name": "stdout",
     "output_type": "stream",
     "text": [
      "Maria Bethania\n",
      "Fernando Henrique Cardoso\n"
     ]
    }
   ],
   "source": [
    "def formatar_nome(primeiro_nome, ultimo_nome, nome_do_meio=''):\n",
    "    \"\"\" Retorna o nome completo \"\"\"\n",
    "    if nome_do_meio:\n",
    "        nome_completo=f'{primeiro_nome} {nome_do_meio} {ultimo_nome}'\n",
    "        return nome_completo.title()\n",
    "    \n",
    "    nome_completo=f'{primeiro_nome} {ultimo_nome}'\n",
    "    \n",
    "    return nome_completo.title()\n",
    "\n",
    "cantor = formatar_nome('Maria' , 'Bethania')\n",
    "politico = formatar_nome('fernando', 'cardoso', 'henrique')\n",
    "\n",
    "print(cantor)\n",
    "print(politico)\n",
    "    \n",
    "    "
   ]
  },
  {
   "cell_type": "markdown",
   "metadata": {},
   "source": [
    "## Retornando Dicionários\n",
    "<p> Funções podem retornar qualquer tipo de valor </p>"
   ]
  },
  {
   "cell_type": "code",
   "execution_count": 36,
   "metadata": {},
   "outputs": [
    {
     "name": "stdout",
     "output_type": "stream",
     "text": [
      "{'primeiro_nome': 'Mateus', 'ultimo_nome': 'Bahia'}\n"
     ]
    }
   ],
   "source": [
    "def criar_pessoa(primeiro_nome, ultimo_nome):\n",
    "    pessoa = {'primeiro_nome': primeiro_nome,\n",
    "              'ultimo_nome': ultimo_nome}\n",
    "    \n",
    "    return pessoa\n",
    "\n",
    "print(criar_pessoa('Mateus','Bahia'))"
   ]
  },
  {
   "cell_type": "code",
   "execution_count": 37,
   "metadata": {},
   "outputs": [
    {
     "name": "stdout",
     "output_type": "stream",
     "text": [
      "{'primeiro_nome': 'Airton', 'ultimo_nome': 'Senna', 'idade': 30}\n"
     ]
    }
   ],
   "source": [
    "def criar_pessoa(primeiro_nome, ultimo_nome, idade=None):\n",
    "    pessoa = {'primeiro_nome': primeiro_nome,\n",
    "              'ultimo_nome': ultimo_nome}\n",
    "    if idade:\n",
    "        pessoa['idade'] = idade\n",
    "    \n",
    "        \n",
    "    return pessoa\n",
    "\n",
    "piloto = criar_pessoa('Airton', 'Senna',idade=30)\n",
    "\n",
    "print(piloto)\n",
    "    "
   ]
  },
  {
   "cell_type": "markdown",
   "metadata": {},
   "source": [
    "## Passando uma lista"
   ]
  },
  {
   "cell_type": "code",
   "execution_count": 39,
   "metadata": {},
   "outputs": [
    {
     "name": "stdout",
     "output_type": "stream",
     "text": [
      "Oi, Angelica\n",
      "Oi, Margarida\n",
      "Oi, Rosa\n",
      "Oi, Angela\n"
     ]
    }
   ],
   "source": [
    "def saudar_varias_pessoas(pessoas):\n",
    "    '''Sauda várias pessoas passadas numa lista'''\n",
    "    for pessoa in pessoas:\n",
    "        saudar_usuario_pelo_nome(pessoa)\n",
    "\n",
    "grupo = ['Angelica', 'Margarida', 'Rosa', 'Angela']\n",
    "saudar_varias_pessoas(grupo)"
   ]
  },
  {
   "cell_type": "markdown",
   "metadata": {},
   "source": [
    "## Modificando listas"
   ]
  },
  {
   "cell_type": "code",
   "execution_count": 52,
   "metadata": {},
   "outputs": [
    {
     "name": "stdout",
     "output_type": "stream",
     "text": [
      "Pessoas: ['Roberto', 'Jair', 'Rogerio', 'Sidney']\n",
      "Sorteado: Jair\n",
      "Pessoas: ['Roberto', 'Rogerio', 'Sidney']\n",
      "Sorteado: Roberto\n",
      "Pessoas: ['Rogerio', 'Sidney']\n",
      "Sorteado: Rogerio\n",
      "Pessoas: ['Sidney']\n",
      "Sorteado: Sidney\n",
      "\n",
      "Para que a função nao altera a lista, passe a lista assim: pessoas[:]\n",
      "\n",
      "Pessoas: ['Luis', 'Luana', 'Lisete', 'Lucas']\n",
      "Sorteado: Lucas\n",
      "Pessoas: ['Luis', 'Luana', 'Lisete', 'Lucas']\n",
      "Sorteado: Luana\n",
      "Pessoas: ['Luis', 'Luana', 'Lisete', 'Lucas']\n",
      "Sorteado: Lisete\n",
      "Pessoas: ['Luis', 'Luana', 'Lisete', 'Lucas']\n",
      "Sorteado: Lucas\n"
     ]
    }
   ],
   "source": [
    "import random\n",
    "def sortear_e_retirar(items):\n",
    "    sorteado = random.choice(items)\n",
    "    print(f'Sorteado: {sorteado}')\n",
    "    indice = items.index(sorteado)\n",
    "    del items[indice]\n",
    "\n",
    "pessoas = ['Roberto', 'Jair', 'Rogerio', 'Sidney']\n",
    "pessoas1 = ['Luis','Luana', 'Lisete', 'Lucas']\n",
    "\n",
    "while pessoas:\n",
    "    print(f'Pessoas: {pessoas}')\n",
    "    sortear_e_retirar(pessoas)\n",
    "\n",
    "print('\\nPara que a função nao altera a lista, passe a lista assim: pessoas[:]\\n')\n",
    "\n",
    "for pessoa in pessoas1:\n",
    "    print(f'Pessoas: {pessoas1}')\n",
    "    sortear_e_retirar(pessoas1[:])\n",
    "    \n",
    "    "
   ]
  },
  {
   "cell_type": "markdown",
   "metadata": {},
   "source": [
    "## Organização suas funções em Módulos\n",
    "<p>Uma vantagem de usar funções é que elas separam blocos de código de seu programa principal. Usando nomes de funções adequados será muito mais fácil entender o código, além disso pode-se guardar as funções em modulos (arquivo .py) e importá-las em seu programa principal por meio do comando import. Desse maneira vc obterá uma melhor organização de seu projeto agrupando funções relacionadas em módulos.</p>\n",
    "<p>Suponha que a função sortear_e_retirar está salva no arquivo sorteio.py na pasta do projeto e vc crie um módulo main.py (seu script principal) e queira usar a função sortear_e_retirar.</p>"
   ]
  },
  {
   "cell_type": "code",
   "execution_count": null,
   "metadata": {},
   "outputs": [],
   "source": [
    "import sorteio\n",
    "\n",
    "\n",
    "pessoas = ['Roberto', 'Jair', 'Rogerio', 'Sidney']\n",
    "\n",
    "while pessoas:\n",
    "    print(f'Pessoas: {pessoas}')\n",
    "    sorteio.sortear_e_retirar(pessoas)"
   ]
  },
  {
   "cell_type": "code",
   "execution_count": null,
   "metadata": {},
   "outputs": [],
   "source": [
    "# importando somente um determinada função\n",
    "from sorteio import sortear_e_retirar\n",
    "# caso queira importar mais de uma função do módulo use\n",
    "# from module_name import function_0, function_1, function_2\n",
    "\n",
    "\n",
    "pessoas = ['Roberto', 'Jair', 'Rogerio', 'Sidney']\n",
    "\n",
    "while pessoas:\n",
    "    print(f'Pessoas: {pessoas}')\n",
    "    sortear_e_retirar(pessoas)"
   ]
  },
  {
   "cell_type": "code",
   "execution_count": null,
   "metadata": {},
   "outputs": [],
   "source": [
    "# dando apelido (alias) para a função, use quando quiser usar a função com um nome mais curto ou no seu código\n",
    "# já exista uma variável ou função com o mesmo nome da que vc esta importando.\n",
    "from sorteio import sortear_e_retirar as sortear\n",
    "\n",
    "\n",
    "pessoas = ['Roberto', 'Jair', 'Rogerio', 'Sidney']\n",
    "\n",
    "while pessoas:\n",
    "    print(f'Pessoas: {pessoas}')\n",
    "    sortear(pessoas)"
   ]
  },
  {
   "cell_type": "code",
   "execution_count": null,
   "metadata": {},
   "outputs": [],
   "source": [
    "# import todas as funções que estão em sorteio, não é uma boa prática\n",
    "from sorteio import *\n",
    "\n",
    "\n",
    "pessoas = ['Roberto', 'Jair', 'Rogerio', 'Sidney']\n",
    "\n",
    "while pessoas:\n",
    "    print(f'Pessoas: {pessoas}')\n",
    "    sortear_e_retirar(pessoas)"
   ]
  },
  {
   "cell_type": "markdown",
   "metadata": {},
   "source": [
    "## Escopos\n",
    "<ol>\n",
    "<li> Interno\n",
    "<li> Global (modulo)\n",
    "<li> Local\n",
    "</ol>"
   ]
  },
  {
   "cell_type": "code",
   "execution_count": 58,
   "metadata": {},
   "outputs": [
    {
     "name": "stdout",
     "output_type": "stream",
     "text": [
      "100\n",
      "<function func at 0x7f956aec9b80>\n",
      "<built-in function open>\n"
     ]
    }
   ],
   "source": [
    "# os nomes x e func tem escopo global (são enxergados por todo o módulo)\n",
    "x = 99 \n",
    "def func(y):\n",
    "    \n",
    "    # escopo local\n",
    "    # z e y tem escopo local, só são visto dentro da função    \n",
    "    z = x + y \n",
    "    return z\n",
    "print(func(1))\n",
    "\n",
    "print(func)\n",
    "\n",
    "#o nome open esta definido no escopo interno do python, está sempre disponivel para ser usado em qualquer local\n",
    "print(open)\n"
   ]
  },
  {
   "cell_type": "code",
   "execution_count": null,
   "metadata": {},
   "outputs": [],
   "source": []
  }
 ],
 "metadata": {
  "kernelspec": {
   "display_name": "Python 3 (ipykernel)",
   "language": "python",
   "name": "python3"
  },
  "language_info": {
   "codemirror_mode": {
    "name": "ipython",
    "version": 3
   },
   "file_extension": ".py",
   "mimetype": "text/x-python",
   "name": "python",
   "nbconvert_exporter": "python",
   "pygments_lexer": "ipython3",
   "version": "3.8.10"
  }
 },
 "nbformat": 4,
 "nbformat_minor": 4
}
